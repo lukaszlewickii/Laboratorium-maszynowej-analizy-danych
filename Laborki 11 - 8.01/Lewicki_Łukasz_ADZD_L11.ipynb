{
 "cells": [
  {
   "cell_type": "code",
   "execution_count": null,
   "metadata": {},
   "outputs": [],
   "source": [
    "\"\"\"\n",
    "Wyjaśnialna sztuczna inteligencja\n",
    "\n",
    "Proszę o pobranie danych ze źródła:\n",
    "https://www.kaggle.com/c/titanic \n",
    "Zbiór danych dotyczy pasażerów statku rejsowego Titanic (11 cech + atrybut decyzyjny):\n",
    "PassengerId - numer identyfikacyjny pasażera,\n",
    "Survived - zmienna określająca, czy dany pasażer przeżył katastrofę (1) czy nie (0),\n",
    "Pclass - zmienna określająca, czy pasażer podróżował w klasie 1, 2 czy 3,\n",
    "Name - imię i nazwisko pasażera,\n",
    "Sex - płeć pasażera,\n",
    "Age - wiek pasażera,\n",
    "SibSp - liczba członków rodziny znajdująca się na pokładzie statku (rodzeństwo/małżonkowie),\n",
    "Parch - liczba członków rodziny znajdująca się na pokładzie statku (rodzice/dzieci),\n",
    "Ticket - sygnatura biletu,\n",
    "Fare - cena biletu,\n",
    "Cabin - numer zajmowanej kajuty,\n",
    "Embarked - zmienna określająca czy pasażer wsiadł na pokład w porcie Cherbourg, Queenstown lub Southampton.\n",
    "\n",
    "\n",
    "Zbiór będzie wykorzystany w celu wyjaśnienia, z wykorzystaniem algorytmu LIME, predykcji czy dany pasażer przeżył katastrofę czy nie.\n",
    "\n",
    "\n",
    "1. Przygotowanie danych.\n",
    "1.1. Należy wczytać dane treningowe (titanic_train.csv).\n",
    "1.2. Preprocessing danych (należy usunąć zmienne, które nie określają cech pasażera, np. PassengerId).\n",
    "1.3. Podział zbioru danych na treningowy i testowy. Na podstawie uczenia zbioru treningowego, należy dokonać predykcji na temat przeżycia/śmierci pasażerów Titanica ze zbioru testowego. Zbiór testowy ma składać się z niemniej niż 200 przypadków. Zarodek liczb losowych ma być różny od 101.\n",
    "\"\"\""
   ]
  },
  {
   "cell_type": "code",
   "execution_count": 70,
   "metadata": {},
   "outputs": [],
   "source": [
    "import pandas as pd\n",
    "import matplotlib.pyplot as plt\n",
    "from sklearn.model_selection import train_test_split\n",
    "from sklearn.preprocessing import OneHotEncoder\n",
    "from sklearn.compose import ColumnTransformer\n",
    "from sklearn.pipeline import Pipeline\n",
    "from sklearn.linear_model import LogisticRegression\n",
    "from sklearn.metrics import accuracy_score\n",
    "from sklearn.impute import SimpleImputer"
   ]
  },
  {
   "cell_type": "code",
   "execution_count": 31,
   "metadata": {},
   "outputs": [],
   "source": [
    "# Wczytanie danych\n",
    "df = pd.read_csv('./titanic_train.csv')"
   ]
  },
  {
   "cell_type": "code",
   "execution_count": 43,
   "metadata": {},
   "outputs": [
    {
     "data": {
      "text/plain": [
       "Survived    0\n",
       "Pclass      0\n",
       "Sex         0\n",
       "Age         0\n",
       "SibSp       0\n",
       "Parch       0\n",
       "Fare        0\n",
       "Embarked    0\n",
       "dtype: int64"
      ]
     },
     "execution_count": 43,
     "metadata": {},
     "output_type": "execute_result"
    }
   ],
   "source": [
    "df.isnull().sum()"
   ]
  },
  {
   "cell_type": "code",
   "execution_count": 37,
   "metadata": {},
   "outputs": [],
   "source": [
    "# Usunięcie wierszy, w których brakuje 'Embarked'\n",
    "df.dropna(subset=['Embarked'], inplace=True)"
   ]
  },
  {
   "cell_type": "code",
   "execution_count": 33,
   "metadata": {},
   "outputs": [
    {
     "data": {
      "text/html": [
       "<div>\n",
       "<style scoped>\n",
       "    .dataframe tbody tr th:only-of-type {\n",
       "        vertical-align: middle;\n",
       "    }\n",
       "\n",
       "    .dataframe tbody tr th {\n",
       "        vertical-align: top;\n",
       "    }\n",
       "\n",
       "    .dataframe thead th {\n",
       "        text-align: right;\n",
       "    }\n",
       "</style>\n",
       "<table border=\"1\" class=\"dataframe\">\n",
       "  <thead>\n",
       "    <tr style=\"text-align: right;\">\n",
       "      <th></th>\n",
       "      <th>PassengerId</th>\n",
       "      <th>Survived</th>\n",
       "      <th>Pclass</th>\n",
       "      <th>Name</th>\n",
       "      <th>Sex</th>\n",
       "      <th>Age</th>\n",
       "      <th>SibSp</th>\n",
       "      <th>Parch</th>\n",
       "      <th>Ticket</th>\n",
       "      <th>Fare</th>\n",
       "      <th>Cabin</th>\n",
       "      <th>Embarked</th>\n",
       "    </tr>\n",
       "  </thead>\n",
       "  <tbody>\n",
       "    <tr>\n",
       "      <th>0</th>\n",
       "      <td>1</td>\n",
       "      <td>0</td>\n",
       "      <td>3</td>\n",
       "      <td>Braund, Mr. Owen Harris</td>\n",
       "      <td>male</td>\n",
       "      <td>22.0</td>\n",
       "      <td>1</td>\n",
       "      <td>0</td>\n",
       "      <td>A/5 21171</td>\n",
       "      <td>7.2500</td>\n",
       "      <td>NaN</td>\n",
       "      <td>S</td>\n",
       "    </tr>\n",
       "    <tr>\n",
       "      <th>1</th>\n",
       "      <td>2</td>\n",
       "      <td>1</td>\n",
       "      <td>1</td>\n",
       "      <td>Cumings, Mrs. John Bradley (Florence Briggs Th...</td>\n",
       "      <td>female</td>\n",
       "      <td>38.0</td>\n",
       "      <td>1</td>\n",
       "      <td>0</td>\n",
       "      <td>PC 17599</td>\n",
       "      <td>71.2833</td>\n",
       "      <td>C85</td>\n",
       "      <td>C</td>\n",
       "    </tr>\n",
       "    <tr>\n",
       "      <th>2</th>\n",
       "      <td>3</td>\n",
       "      <td>1</td>\n",
       "      <td>3</td>\n",
       "      <td>Heikkinen, Miss. Laina</td>\n",
       "      <td>female</td>\n",
       "      <td>26.0</td>\n",
       "      <td>0</td>\n",
       "      <td>0</td>\n",
       "      <td>STON/O2. 3101282</td>\n",
       "      <td>7.9250</td>\n",
       "      <td>NaN</td>\n",
       "      <td>S</td>\n",
       "    </tr>\n",
       "    <tr>\n",
       "      <th>3</th>\n",
       "      <td>4</td>\n",
       "      <td>1</td>\n",
       "      <td>1</td>\n",
       "      <td>Futrelle, Mrs. Jacques Heath (Lily May Peel)</td>\n",
       "      <td>female</td>\n",
       "      <td>35.0</td>\n",
       "      <td>1</td>\n",
       "      <td>0</td>\n",
       "      <td>113803</td>\n",
       "      <td>53.1000</td>\n",
       "      <td>C123</td>\n",
       "      <td>S</td>\n",
       "    </tr>\n",
       "    <tr>\n",
       "      <th>4</th>\n",
       "      <td>5</td>\n",
       "      <td>0</td>\n",
       "      <td>3</td>\n",
       "      <td>Allen, Mr. William Henry</td>\n",
       "      <td>male</td>\n",
       "      <td>35.0</td>\n",
       "      <td>0</td>\n",
       "      <td>0</td>\n",
       "      <td>373450</td>\n",
       "      <td>8.0500</td>\n",
       "      <td>NaN</td>\n",
       "      <td>S</td>\n",
       "    </tr>\n",
       "  </tbody>\n",
       "</table>\n",
       "</div>"
      ],
      "text/plain": [
       "   PassengerId  Survived  Pclass  \\\n",
       "0            1         0       3   \n",
       "1            2         1       1   \n",
       "2            3         1       3   \n",
       "3            4         1       1   \n",
       "4            5         0       3   \n",
       "\n",
       "                                                Name     Sex   Age  SibSp  \\\n",
       "0                            Braund, Mr. Owen Harris    male  22.0      1   \n",
       "1  Cumings, Mrs. John Bradley (Florence Briggs Th...  female  38.0      1   \n",
       "2                             Heikkinen, Miss. Laina  female  26.0      0   \n",
       "3       Futrelle, Mrs. Jacques Heath (Lily May Peel)  female  35.0      1   \n",
       "4                           Allen, Mr. William Henry    male  35.0      0   \n",
       "\n",
       "   Parch            Ticket     Fare Cabin Embarked  \n",
       "0      0         A/5 21171   7.2500   NaN        S  \n",
       "1      0          PC 17599  71.2833   C85        C  \n",
       "2      0  STON/O2. 3101282   7.9250   NaN        S  \n",
       "3      0            113803  53.1000  C123        S  \n",
       "4      0            373450   8.0500   NaN        S  "
      ]
     },
     "execution_count": 33,
     "metadata": {},
     "output_type": "execute_result"
    }
   ],
   "source": [
    "df.head()"
   ]
  },
  {
   "cell_type": "code",
   "execution_count": 34,
   "metadata": {},
   "outputs": [
    {
     "data": {
      "text/plain": [
       "Index(['Survived', 'Pclass', 'Sex', 'Age', 'SibSp', 'Parch', 'Fare',\n",
       "       'Embarked'],\n",
       "      dtype='object')"
      ]
     },
     "execution_count": 34,
     "metadata": {},
     "output_type": "execute_result"
    }
   ],
   "source": [
    "# Usunięcie zbędnych kolumn\n",
    "df.drop(['PassengerId', 'Name', 'Ticket', 'Cabin'], axis=1, inplace=True)\n",
    "df.columns"
   ]
  },
  {
   "cell_type": "code",
   "execution_count": 39,
   "metadata": {},
   "outputs": [],
   "source": [
    "# Definicja kolumn numerycznych i kategorialnych\n",
    "numeric_features = ['Age', 'SibSp', 'Parch', 'Fare']\n",
    "categorical_features = ['Pclass', 'Sex', 'Embarked']"
   ]
  },
  {
   "cell_type": "code",
   "execution_count": 41,
   "metadata": {},
   "outputs": [],
   "source": [
    "numeric_transformer = SimpleImputer(strategy='median')\n",
    "categorical_transformer = SimpleImputer(strategy='most_frequent')"
   ]
  },
  {
   "cell_type": "code",
   "execution_count": 42,
   "metadata": {},
   "outputs": [],
   "source": [
    "df[numeric_features] = numeric_transformer.fit_transform(df[numeric_features])"
   ]
  },
  {
   "cell_type": "code",
   "execution_count": 20,
   "metadata": {},
   "outputs": [],
   "source": [
    "# Kompozytowy transformator\n",
    "preprocessor = ColumnTransformer(\n",
    "    transformers=[\n",
    "        ('num', numeric_transformer, numeric_features),\n",
    "        ('cat', categorical_transformer, categorical_features)])"
   ]
  },
  {
   "cell_type": "code",
   "execution_count": 44,
   "metadata": {},
   "outputs": [],
   "source": [
    "# Model\n",
    "model = Pipeline(steps=[('preprocessor', preprocessor),\n",
    "                        ('classifier', LogisticRegression(max_iter=10000))])\n"
   ]
  },
  {
   "cell_type": "code",
   "execution_count": 52,
   "metadata": {},
   "outputs": [
    {
     "name": "stdout",
     "output_type": "stream",
     "text": [
      "Rozmiar zbioru treningowego: (711, 8)\n",
      "Rozmiar zbioru testowego: (178, 8)\n"
     ]
    }
   ],
   "source": [
    "#Definicja zmiennych niezależnych i zależnej\n",
    "X = df.drop('Survived', axis=1)\n",
    "y = df['Survived']\n",
    "\n",
    "#Podział zbioru danych\n",
    "X_train, X_test, y_train, y_test = train_test_split(X, y, test_size=0.2, random_state=102)\n",
    "\n",
    "#Sprawdzenie rozmiarów zbiorów\n",
    "print(\"Rozmiar zbioru treningowego:\", X_train.shape)\n",
    "print(\"Rozmiar zbioru testowego:\", X_test.shape)"
   ]
  },
  {
   "cell_type": "code",
   "execution_count": 46,
   "metadata": {},
   "outputs": [
    {
     "data": {
      "text/html": [
       "<style>#sk-container-id-1 {color: black;}#sk-container-id-1 pre{padding: 0;}#sk-container-id-1 div.sk-toggleable {background-color: white;}#sk-container-id-1 label.sk-toggleable__label {cursor: pointer;display: block;width: 100%;margin-bottom: 0;padding: 0.3em;box-sizing: border-box;text-align: center;}#sk-container-id-1 label.sk-toggleable__label-arrow:before {content: \"▸\";float: left;margin-right: 0.25em;color: #696969;}#sk-container-id-1 label.sk-toggleable__label-arrow:hover:before {color: black;}#sk-container-id-1 div.sk-estimator:hover label.sk-toggleable__label-arrow:before {color: black;}#sk-container-id-1 div.sk-toggleable__content {max-height: 0;max-width: 0;overflow: hidden;text-align: left;background-color: #f0f8ff;}#sk-container-id-1 div.sk-toggleable__content pre {margin: 0.2em;color: black;border-radius: 0.25em;background-color: #f0f8ff;}#sk-container-id-1 input.sk-toggleable__control:checked~div.sk-toggleable__content {max-height: 200px;max-width: 100%;overflow: auto;}#sk-container-id-1 input.sk-toggleable__control:checked~label.sk-toggleable__label-arrow:before {content: \"▾\";}#sk-container-id-1 div.sk-estimator input.sk-toggleable__control:checked~label.sk-toggleable__label {background-color: #d4ebff;}#sk-container-id-1 div.sk-label input.sk-toggleable__control:checked~label.sk-toggleable__label {background-color: #d4ebff;}#sk-container-id-1 input.sk-hidden--visually {border: 0;clip: rect(1px 1px 1px 1px);clip: rect(1px, 1px, 1px, 1px);height: 1px;margin: -1px;overflow: hidden;padding: 0;position: absolute;width: 1px;}#sk-container-id-1 div.sk-estimator {font-family: monospace;background-color: #f0f8ff;border: 1px dotted black;border-radius: 0.25em;box-sizing: border-box;margin-bottom: 0.5em;}#sk-container-id-1 div.sk-estimator:hover {background-color: #d4ebff;}#sk-container-id-1 div.sk-parallel-item::after {content: \"\";width: 100%;border-bottom: 1px solid gray;flex-grow: 1;}#sk-container-id-1 div.sk-label:hover label.sk-toggleable__label {background-color: #d4ebff;}#sk-container-id-1 div.sk-serial::before {content: \"\";position: absolute;border-left: 1px solid gray;box-sizing: border-box;top: 0;bottom: 0;left: 50%;z-index: 0;}#sk-container-id-1 div.sk-serial {display: flex;flex-direction: column;align-items: center;background-color: white;padding-right: 0.2em;padding-left: 0.2em;position: relative;}#sk-container-id-1 div.sk-item {position: relative;z-index: 1;}#sk-container-id-1 div.sk-parallel {display: flex;align-items: stretch;justify-content: center;background-color: white;position: relative;}#sk-container-id-1 div.sk-item::before, #sk-container-id-1 div.sk-parallel-item::before {content: \"\";position: absolute;border-left: 1px solid gray;box-sizing: border-box;top: 0;bottom: 0;left: 50%;z-index: -1;}#sk-container-id-1 div.sk-parallel-item {display: flex;flex-direction: column;z-index: 1;position: relative;background-color: white;}#sk-container-id-1 div.sk-parallel-item:first-child::after {align-self: flex-end;width: 50%;}#sk-container-id-1 div.sk-parallel-item:last-child::after {align-self: flex-start;width: 50%;}#sk-container-id-1 div.sk-parallel-item:only-child::after {width: 0;}#sk-container-id-1 div.sk-dashed-wrapped {border: 1px dashed gray;margin: 0 0.4em 0.5em 0.4em;box-sizing: border-box;padding-bottom: 0.4em;background-color: white;}#sk-container-id-1 div.sk-label label {font-family: monospace;font-weight: bold;display: inline-block;line-height: 1.2em;}#sk-container-id-1 div.sk-label-container {text-align: center;}#sk-container-id-1 div.sk-container {/* jupyter's `normalize.less` sets `[hidden] { display: none; }` but bootstrap.min.css set `[hidden] { display: none !important; }` so we also need the `!important` here to be able to override the default hidden behavior on the sphinx rendered scikit-learn.org. See: https://github.com/scikit-learn/scikit-learn/issues/21755 */display: inline-block !important;position: relative;}#sk-container-id-1 div.sk-text-repr-fallback {display: none;}</style><div id=\"sk-container-id-1\" class=\"sk-top-container\"><div class=\"sk-text-repr-fallback\"><pre>Pipeline(steps=[(&#x27;preprocessor&#x27;,\n",
       "                 ColumnTransformer(transformers=[(&#x27;num&#x27;,\n",
       "                                                  Pipeline(steps=[(&#x27;num&#x27;,\n",
       "                                                                   &#x27;passthrough&#x27;)]),\n",
       "                                                  [&#x27;Age&#x27;, &#x27;SibSp&#x27;, &#x27;Parch&#x27;,\n",
       "                                                   &#x27;Fare&#x27;]),\n",
       "                                                 (&#x27;cat&#x27;,\n",
       "                                                  Pipeline(steps=[(&#x27;onehot&#x27;,\n",
       "                                                                   OneHotEncoder())]),\n",
       "                                                  [&#x27;Pclass&#x27;, &#x27;Sex&#x27;,\n",
       "                                                   &#x27;Embarked&#x27;])])),\n",
       "                (&#x27;classifier&#x27;, LogisticRegression(max_iter=10000))])</pre><b>In a Jupyter environment, please rerun this cell to show the HTML representation or trust the notebook. <br />On GitHub, the HTML representation is unable to render, please try loading this page with nbviewer.org.</b></div><div class=\"sk-container\" hidden><div class=\"sk-item sk-dashed-wrapped\"><div class=\"sk-label-container\"><div class=\"sk-label sk-toggleable\"><input class=\"sk-toggleable__control sk-hidden--visually\" id=\"sk-estimator-id-1\" type=\"checkbox\" ><label for=\"sk-estimator-id-1\" class=\"sk-toggleable__label sk-toggleable__label-arrow\">Pipeline</label><div class=\"sk-toggleable__content\"><pre>Pipeline(steps=[(&#x27;preprocessor&#x27;,\n",
       "                 ColumnTransformer(transformers=[(&#x27;num&#x27;,\n",
       "                                                  Pipeline(steps=[(&#x27;num&#x27;,\n",
       "                                                                   &#x27;passthrough&#x27;)]),\n",
       "                                                  [&#x27;Age&#x27;, &#x27;SibSp&#x27;, &#x27;Parch&#x27;,\n",
       "                                                   &#x27;Fare&#x27;]),\n",
       "                                                 (&#x27;cat&#x27;,\n",
       "                                                  Pipeline(steps=[(&#x27;onehot&#x27;,\n",
       "                                                                   OneHotEncoder())]),\n",
       "                                                  [&#x27;Pclass&#x27;, &#x27;Sex&#x27;,\n",
       "                                                   &#x27;Embarked&#x27;])])),\n",
       "                (&#x27;classifier&#x27;, LogisticRegression(max_iter=10000))])</pre></div></div></div><div class=\"sk-serial\"><div class=\"sk-item sk-dashed-wrapped\"><div class=\"sk-label-container\"><div class=\"sk-label sk-toggleable\"><input class=\"sk-toggleable__control sk-hidden--visually\" id=\"sk-estimator-id-2\" type=\"checkbox\" ><label for=\"sk-estimator-id-2\" class=\"sk-toggleable__label sk-toggleable__label-arrow\">preprocessor: ColumnTransformer</label><div class=\"sk-toggleable__content\"><pre>ColumnTransformer(transformers=[(&#x27;num&#x27;,\n",
       "                                 Pipeline(steps=[(&#x27;num&#x27;, &#x27;passthrough&#x27;)]),\n",
       "                                 [&#x27;Age&#x27;, &#x27;SibSp&#x27;, &#x27;Parch&#x27;, &#x27;Fare&#x27;]),\n",
       "                                (&#x27;cat&#x27;,\n",
       "                                 Pipeline(steps=[(&#x27;onehot&#x27;, OneHotEncoder())]),\n",
       "                                 [&#x27;Pclass&#x27;, &#x27;Sex&#x27;, &#x27;Embarked&#x27;])])</pre></div></div></div><div class=\"sk-parallel\"><div class=\"sk-parallel-item\"><div class=\"sk-item\"><div class=\"sk-label-container\"><div class=\"sk-label sk-toggleable\"><input class=\"sk-toggleable__control sk-hidden--visually\" id=\"sk-estimator-id-3\" type=\"checkbox\" ><label for=\"sk-estimator-id-3\" class=\"sk-toggleable__label sk-toggleable__label-arrow\">num</label><div class=\"sk-toggleable__content\"><pre>[&#x27;Age&#x27;, &#x27;SibSp&#x27;, &#x27;Parch&#x27;, &#x27;Fare&#x27;]</pre></div></div></div><div class=\"sk-serial\"><div class=\"sk-item\"><div class=\"sk-serial\"><div class=\"sk-item\"><div class=\"sk-estimator sk-toggleable\"><input class=\"sk-toggleable__control sk-hidden--visually\" id=\"sk-estimator-id-4\" type=\"checkbox\" ><label for=\"sk-estimator-id-4\" class=\"sk-toggleable__label sk-toggleable__label-arrow\">passthrough</label><div class=\"sk-toggleable__content\"><pre>passthrough</pre></div></div></div></div></div></div></div></div><div class=\"sk-parallel-item\"><div class=\"sk-item\"><div class=\"sk-label-container\"><div class=\"sk-label sk-toggleable\"><input class=\"sk-toggleable__control sk-hidden--visually\" id=\"sk-estimator-id-5\" type=\"checkbox\" ><label for=\"sk-estimator-id-5\" class=\"sk-toggleable__label sk-toggleable__label-arrow\">cat</label><div class=\"sk-toggleable__content\"><pre>[&#x27;Pclass&#x27;, &#x27;Sex&#x27;, &#x27;Embarked&#x27;]</pre></div></div></div><div class=\"sk-serial\"><div class=\"sk-item\"><div class=\"sk-serial\"><div class=\"sk-item\"><div class=\"sk-estimator sk-toggleable\"><input class=\"sk-toggleable__control sk-hidden--visually\" id=\"sk-estimator-id-6\" type=\"checkbox\" ><label for=\"sk-estimator-id-6\" class=\"sk-toggleable__label sk-toggleable__label-arrow\">OneHotEncoder</label><div class=\"sk-toggleable__content\"><pre>OneHotEncoder()</pre></div></div></div></div></div></div></div></div></div></div><div class=\"sk-item\"><div class=\"sk-estimator sk-toggleable\"><input class=\"sk-toggleable__control sk-hidden--visually\" id=\"sk-estimator-id-7\" type=\"checkbox\" ><label for=\"sk-estimator-id-7\" class=\"sk-toggleable__label sk-toggleable__label-arrow\">LogisticRegression</label><div class=\"sk-toggleable__content\"><pre>LogisticRegression(max_iter=10000)</pre></div></div></div></div></div></div></div>"
      ],
      "text/plain": [
       "Pipeline(steps=[('preprocessor',\n",
       "                 ColumnTransformer(transformers=[('num',\n",
       "                                                  Pipeline(steps=[('num',\n",
       "                                                                   'passthrough')]),\n",
       "                                                  ['Age', 'SibSp', 'Parch',\n",
       "                                                   'Fare']),\n",
       "                                                 ('cat',\n",
       "                                                  Pipeline(steps=[('onehot',\n",
       "                                                                   OneHotEncoder())]),\n",
       "                                                  ['Pclass', 'Sex',\n",
       "                                                   'Embarked'])])),\n",
       "                ('classifier', LogisticRegression(max_iter=10000))])"
      ]
     },
     "execution_count": 46,
     "metadata": {},
     "output_type": "execute_result"
    }
   ],
   "source": [
    "# Uczenie modelu\n",
    "model.fit(X_train, y_train)"
   ]
  },
  {
   "cell_type": "code",
   "execution_count": 47,
   "metadata": {},
   "outputs": [
    {
     "name": "stdout",
     "output_type": "stream",
     "text": [
      "Dokładność modelu: 77.53%\n"
     ]
    }
   ],
   "source": [
    "# Predykcja i ocena modelu\n",
    "y_pred = model.predict(X_test)\n",
    "accuracy = accuracy_score(y_test, y_pred)\n",
    "\n",
    "print(f\"Dokładność modelu: {accuracy * 100:.2f}%\")"
   ]
  },
  {
   "cell_type": "code",
   "execution_count": null,
   "metadata": {},
   "outputs": [],
   "source": [
    "\"\"\"\n",
    "2. AI - algorytm klasyfikacyjny.\n",
    "2.1. Zbudowanie modelu klasyfikacyjnego z wyłączeniem regersji logistycznej (wytrenowanie modelu, wypróbowanie modelu na zbiorze testowym, ewaluacja modelu - raport z klasyfikacji i macierz błędów).\n",
    "2.2. Dyskusja wyników.\n",
    "\"\"\""
   ]
  },
  {
   "cell_type": "code",
   "execution_count": 48,
   "metadata": {},
   "outputs": [],
   "source": [
    "import pandas as pd\n",
    "from sklearn.model_selection import train_test_split\n",
    "from sklearn.ensemble import RandomForestClassifier\n",
    "from sklearn.metrics import classification_report, confusion_matrix"
   ]
  },
  {
   "cell_type": "code",
   "execution_count": 50,
   "metadata": {},
   "outputs": [],
   "source": [
    "# Konwersja kategorii na wartości numeryczne\n",
    "df = pd.get_dummies(df, drop_first=True)"
   ]
  },
  {
   "cell_type": "code",
   "execution_count": 53,
   "metadata": {},
   "outputs": [
    {
     "data": {
      "text/html": [
       "<style>#sk-container-id-2 {color: black;}#sk-container-id-2 pre{padding: 0;}#sk-container-id-2 div.sk-toggleable {background-color: white;}#sk-container-id-2 label.sk-toggleable__label {cursor: pointer;display: block;width: 100%;margin-bottom: 0;padding: 0.3em;box-sizing: border-box;text-align: center;}#sk-container-id-2 label.sk-toggleable__label-arrow:before {content: \"▸\";float: left;margin-right: 0.25em;color: #696969;}#sk-container-id-2 label.sk-toggleable__label-arrow:hover:before {color: black;}#sk-container-id-2 div.sk-estimator:hover label.sk-toggleable__label-arrow:before {color: black;}#sk-container-id-2 div.sk-toggleable__content {max-height: 0;max-width: 0;overflow: hidden;text-align: left;background-color: #f0f8ff;}#sk-container-id-2 div.sk-toggleable__content pre {margin: 0.2em;color: black;border-radius: 0.25em;background-color: #f0f8ff;}#sk-container-id-2 input.sk-toggleable__control:checked~div.sk-toggleable__content {max-height: 200px;max-width: 100%;overflow: auto;}#sk-container-id-2 input.sk-toggleable__control:checked~label.sk-toggleable__label-arrow:before {content: \"▾\";}#sk-container-id-2 div.sk-estimator input.sk-toggleable__control:checked~label.sk-toggleable__label {background-color: #d4ebff;}#sk-container-id-2 div.sk-label input.sk-toggleable__control:checked~label.sk-toggleable__label {background-color: #d4ebff;}#sk-container-id-2 input.sk-hidden--visually {border: 0;clip: rect(1px 1px 1px 1px);clip: rect(1px, 1px, 1px, 1px);height: 1px;margin: -1px;overflow: hidden;padding: 0;position: absolute;width: 1px;}#sk-container-id-2 div.sk-estimator {font-family: monospace;background-color: #f0f8ff;border: 1px dotted black;border-radius: 0.25em;box-sizing: border-box;margin-bottom: 0.5em;}#sk-container-id-2 div.sk-estimator:hover {background-color: #d4ebff;}#sk-container-id-2 div.sk-parallel-item::after {content: \"\";width: 100%;border-bottom: 1px solid gray;flex-grow: 1;}#sk-container-id-2 div.sk-label:hover label.sk-toggleable__label {background-color: #d4ebff;}#sk-container-id-2 div.sk-serial::before {content: \"\";position: absolute;border-left: 1px solid gray;box-sizing: border-box;top: 0;bottom: 0;left: 50%;z-index: 0;}#sk-container-id-2 div.sk-serial {display: flex;flex-direction: column;align-items: center;background-color: white;padding-right: 0.2em;padding-left: 0.2em;position: relative;}#sk-container-id-2 div.sk-item {position: relative;z-index: 1;}#sk-container-id-2 div.sk-parallel {display: flex;align-items: stretch;justify-content: center;background-color: white;position: relative;}#sk-container-id-2 div.sk-item::before, #sk-container-id-2 div.sk-parallel-item::before {content: \"\";position: absolute;border-left: 1px solid gray;box-sizing: border-box;top: 0;bottom: 0;left: 50%;z-index: -1;}#sk-container-id-2 div.sk-parallel-item {display: flex;flex-direction: column;z-index: 1;position: relative;background-color: white;}#sk-container-id-2 div.sk-parallel-item:first-child::after {align-self: flex-end;width: 50%;}#sk-container-id-2 div.sk-parallel-item:last-child::after {align-self: flex-start;width: 50%;}#sk-container-id-2 div.sk-parallel-item:only-child::after {width: 0;}#sk-container-id-2 div.sk-dashed-wrapped {border: 1px dashed gray;margin: 0 0.4em 0.5em 0.4em;box-sizing: border-box;padding-bottom: 0.4em;background-color: white;}#sk-container-id-2 div.sk-label label {font-family: monospace;font-weight: bold;display: inline-block;line-height: 1.2em;}#sk-container-id-2 div.sk-label-container {text-align: center;}#sk-container-id-2 div.sk-container {/* jupyter's `normalize.less` sets `[hidden] { display: none; }` but bootstrap.min.css set `[hidden] { display: none !important; }` so we also need the `!important` here to be able to override the default hidden behavior on the sphinx rendered scikit-learn.org. See: https://github.com/scikit-learn/scikit-learn/issues/21755 */display: inline-block !important;position: relative;}#sk-container-id-2 div.sk-text-repr-fallback {display: none;}</style><div id=\"sk-container-id-2\" class=\"sk-top-container\"><div class=\"sk-text-repr-fallback\"><pre>RandomForestClassifier(random_state=102)</pre><b>In a Jupyter environment, please rerun this cell to show the HTML representation or trust the notebook. <br />On GitHub, the HTML representation is unable to render, please try loading this page with nbviewer.org.</b></div><div class=\"sk-container\" hidden><div class=\"sk-item\"><div class=\"sk-estimator sk-toggleable\"><input class=\"sk-toggleable__control sk-hidden--visually\" id=\"sk-estimator-id-8\" type=\"checkbox\" checked><label for=\"sk-estimator-id-8\" class=\"sk-toggleable__label sk-toggleable__label-arrow\">RandomForestClassifier</label><div class=\"sk-toggleable__content\"><pre>RandomForestClassifier(random_state=102)</pre></div></div></div></div></div>"
      ],
      "text/plain": [
       "RandomForestClassifier(random_state=102)"
      ]
     },
     "execution_count": 53,
     "metadata": {},
     "output_type": "execute_result"
    }
   ],
   "source": [
    "# Inicjalizacja i trenowanie modelu lasów losowych\n",
    "rf_model = RandomForestClassifier(random_state=102)\n",
    "rf_model.fit(X_train, y_train)"
   ]
  },
  {
   "cell_type": "code",
   "execution_count": 54,
   "metadata": {},
   "outputs": [
    {
     "name": "stdout",
     "output_type": "stream",
     "text": [
      "Raport z klasyfikacji:\n",
      "               precision    recall  f1-score   support\n",
      "\n",
      "           0       0.90      0.85      0.88       124\n",
      "           1       0.70      0.78      0.74        54\n",
      "\n",
      "    accuracy                           0.83       178\n",
      "   macro avg       0.80      0.82      0.81       178\n",
      "weighted avg       0.84      0.83      0.83       178\n",
      "\n",
      "Macierz błędów:\n",
      " [[106  18]\n",
      " [ 12  42]]\n"
     ]
    }
   ],
   "source": [
    "# Predykcja na zbiorze testowym\n",
    "y_pred = rf_model.predict(X_test)\n",
    "\n",
    "# Ewaluacja modelu\n",
    "print(\"Raport z klasyfikacji:\\n\", classification_report(y_test, y_pred))\n",
    "print(\"Macierz błędów:\\n\", confusion_matrix(y_test, y_pred))"
   ]
  },
  {
   "cell_type": "code",
   "execution_count": null,
   "metadata": {},
   "outputs": [],
   "source": [
    "\"\"\"\n",
    "3. XAI - LIME. \n",
    "3.1. Należy stworzyć nazwy 2 klas decyzyjnych.\n",
    "3.2. Dopasowanie Explainera do danych treningowych z wykorzystaniem LimeTabularExplainer (mod -> klasyfikacja).\n",
    "3.3. Należy wyświetlić klasę rzeczywistą oraz predykcję dla 5 różnych przypadków. Przy czym należy rozważyć następujące przykłady:\n",
    "\t3.3.1. Klasa rzeczywista: 0, Klasa przewidywana: 0;\n",
    "\t3.3.2. Klasa rzeczywista: 0, Klasa przewidywana: 1;\n",
    "\t3.3.3. Klasa rzeczywista: 1, Klasa przewidywana: 0;\n",
    "\t3.3.4. Klasa rzeczywista: 1, Klasa przewidywana: 1;\n",
    "\t3.3.5. Dowolny przypadek.\n",
    "3.4. Wyjaśnienie (explain_instance() + zwrócenie prawdopodobieństwa (predict_proba()) dla poszczególnych przykładów. Jakie wielkości wpływają na predykcję w poszczególnych przypadkach?\"\"\""
   ]
  },
  {
   "cell_type": "code",
   "execution_count": 56,
   "metadata": {},
   "outputs": [
    {
     "name": "stdout",
     "output_type": "stream",
     "text": [
      "Collecting lime\n",
      "  Downloading lime-0.2.0.1.tar.gz (275 kB)\n",
      "     ---------------------------------------- 0.0/275.7 kB ? eta -:--:--\n",
      "     ---------------------------------------- 0.0/275.7 kB ? eta -:--:--\n",
      "     ---------------------------------------- 0.0/275.7 kB ? eta -:--:--\n",
      "     - -------------------------------------- 10.2/275.7 kB ? eta -:--:--\n",
      "     - -------------------------------------- 10.2/275.7 kB ? eta -:--:--\n",
      "     ----- ------------------------------- 41.0/275.7 kB 388.9 kB/s eta 0:00:01\n",
      "     --------- --------------------------- 71.7/275.7 kB 435.7 kB/s eta 0:00:01\n",
      "     --------- --------------------------- 71.7/275.7 kB 435.7 kB/s eta 0:00:01\n",
      "     --------- --------------------------- 71.7/275.7 kB 435.7 kB/s eta 0:00:01\n",
      "     --------- --------------------------- 71.7/275.7 kB 435.7 kB/s eta 0:00:01\n",
      "     -------------------------- --------- 204.8/275.7 kB 655.1 kB/s eta 0:00:01\n",
      "     -------------------------- --------- 204.8/275.7 kB 655.1 kB/s eta 0:00:01\n",
      "     ---------------------------------- - 266.2/275.7 kB 629.0 kB/s eta 0:00:01\n",
      "     ------------------------------------ 275.7/275.7 kB 606.1 kB/s eta 0:00:00\n",
      "  Preparing metadata (setup.py): started\n",
      "  Preparing metadata (setup.py): finished with status 'done'\n",
      "Requirement already satisfied: matplotlib in c:\\programdata\\anaconda3\\envs\\myenv\\lib\\site-packages (from lime) (3.8.0)\n",
      "Requirement already satisfied: numpy in c:\\programdata\\anaconda3\\envs\\myenv\\lib\\site-packages (from lime) (1.24.3)\n",
      "Requirement already satisfied: scipy in c:\\programdata\\anaconda3\\envs\\myenv\\lib\\site-packages (from lime) (1.11.1)\n",
      "Requirement already satisfied: tqdm in c:\\programdata\\anaconda3\\envs\\myenv\\lib\\site-packages (from lime) (4.66.1)\n",
      "Requirement already satisfied: scikit-learn>=0.18 in c:\\programdata\\anaconda3\\envs\\myenv\\lib\\site-packages (from lime) (1.3.0)\n",
      "Collecting scikit-image>=0.12 (from lime)\n",
      "  Downloading scikit_image-0.22.0-cp311-cp311-win_amd64.whl.metadata (13 kB)\n",
      "Requirement already satisfied: networkx>=2.8 in c:\\programdata\\anaconda3\\envs\\myenv\\lib\\site-packages (from scikit-image>=0.12->lime) (3.2.1)\n",
      "Requirement already satisfied: pillow>=9.0.1 in c:\\programdata\\anaconda3\\envs\\myenv\\lib\\site-packages (from scikit-image>=0.12->lime) (10.0.1)\n",
      "Collecting imageio>=2.27 (from scikit-image>=0.12->lime)\n",
      "  Downloading imageio-2.33.1-py3-none-any.whl.metadata (4.9 kB)\n",
      "Collecting tifffile>=2022.8.12 (from scikit-image>=0.12->lime)\n",
      "  Downloading tifffile-2023.12.9-py3-none-any.whl.metadata (31 kB)\n",
      "Requirement already satisfied: packaging>=21 in c:\\programdata\\anaconda3\\envs\\myenv\\lib\\site-packages (from scikit-image>=0.12->lime) (23.1)\n",
      "Collecting lazy_loader>=0.3 (from scikit-image>=0.12->lime)\n",
      "  Downloading lazy_loader-0.3-py3-none-any.whl.metadata (4.3 kB)\n",
      "Requirement already satisfied: joblib>=1.1.1 in c:\\programdata\\anaconda3\\envs\\myenv\\lib\\site-packages (from scikit-learn>=0.18->lime) (1.2.0)\n",
      "Requirement already satisfied: threadpoolctl>=2.0.0 in c:\\programdata\\anaconda3\\envs\\myenv\\lib\\site-packages (from scikit-learn>=0.18->lime) (2.2.0)\n",
      "Requirement already satisfied: contourpy>=1.0.1 in c:\\programdata\\anaconda3\\envs\\myenv\\lib\\site-packages (from matplotlib->lime) (1.1.1)\n",
      "Requirement already satisfied: cycler>=0.10 in c:\\programdata\\anaconda3\\envs\\myenv\\lib\\site-packages (from matplotlib->lime) (0.12.1)\n",
      "Requirement already satisfied: fonttools>=4.22.0 in c:\\programdata\\anaconda3\\envs\\myenv\\lib\\site-packages (from matplotlib->lime) (4.43.1)\n",
      "Requirement already satisfied: kiwisolver>=1.0.1 in c:\\programdata\\anaconda3\\envs\\myenv\\lib\\site-packages (from matplotlib->lime) (1.4.5)\n",
      "Requirement already satisfied: pyparsing>=2.3.1 in c:\\programdata\\anaconda3\\envs\\myenv\\lib\\site-packages (from matplotlib->lime) (3.1.1)\n",
      "Requirement already satisfied: python-dateutil>=2.7 in c:\\programdata\\anaconda3\\envs\\myenv\\lib\\site-packages (from matplotlib->lime) (2.8.2)\n",
      "Requirement already satisfied: colorama in c:\\programdata\\anaconda3\\envs\\myenv\\lib\\site-packages (from tqdm->lime) (0.4.6)\n",
      "Requirement already satisfied: six>=1.5 in c:\\programdata\\anaconda3\\envs\\myenv\\lib\\site-packages (from python-dateutil>=2.7->matplotlib->lime) (1.16.0)\n",
      "Downloading scikit_image-0.22.0-cp311-cp311-win_amd64.whl (24.5 MB)\n",
      "   ---------------------------------------- 0.0/24.5 MB ? eta -:--:--\n",
      "   ---------------------------------------- 0.1/24.5 MB ? eta -:--:--\n",
      "   ---------------------------------------- 0.1/24.5 MB ? eta -:--:--\n",
      "    --------------------------------------- 0.4/24.5 MB 3.1 MB/s eta 0:00:08\n",
      "    --------------------------------------- 0.4/24.5 MB 3.1 MB/s eta 0:00:08\n",
      "    --------------------------------------- 0.5/24.5 MB 2.3 MB/s eta 0:00:11\n",
      "   - -------------------------------------- 0.7/24.5 MB 2.4 MB/s eta 0:00:10\n",
      "   - -------------------------------------- 0.8/24.5 MB 2.8 MB/s eta 0:00:09\n",
      "   - -------------------------------------- 0.9/24.5 MB 2.8 MB/s eta 0:00:09\n",
      "   - -------------------------------------- 0.9/24.5 MB 2.8 MB/s eta 0:00:09\n",
      "   - -------------------------------------- 0.9/24.5 MB 2.8 MB/s eta 0:00:09\n",
      "   - -------------------------------------- 1.0/24.5 MB 2.0 MB/s eta 0:00:12\n",
      "   - -------------------------------------- 1.0/24.5 MB 1.9 MB/s eta 0:00:13\n",
      "   -- ------------------------------------- 1.3/24.5 MB 2.4 MB/s eta 0:00:10\n",
      "   -- ------------------------------------- 1.4/24.5 MB 2.4 MB/s eta 0:00:10\n",
      "   -- ------------------------------------- 1.6/24.5 MB 2.5 MB/s eta 0:00:10\n",
      "   -- ------------------------------------- 1.6/24.5 MB 2.3 MB/s eta 0:00:10\n",
      "   -- ------------------------------------- 1.8/24.5 MB 2.5 MB/s eta 0:00:10\n",
      "   --- ------------------------------------ 1.9/24.5 MB 2.4 MB/s eta 0:00:10\n",
      "   --- ------------------------------------ 1.9/24.5 MB 2.4 MB/s eta 0:00:10\n",
      "   --- ------------------------------------ 1.9/24.5 MB 2.4 MB/s eta 0:00:10\n",
      "   --- ------------------------------------ 2.1/24.5 MB 2.3 MB/s eta 0:00:10\n",
      "   --- ------------------------------------ 2.1/24.5 MB 2.3 MB/s eta 0:00:10\n",
      "   --- ------------------------------------ 2.1/24.5 MB 2.2 MB/s eta 0:00:11\n",
      "   --- ------------------------------------ 2.2/24.5 MB 2.1 MB/s eta 0:00:11\n",
      "   --- ------------------------------------ 2.2/24.5 MB 2.1 MB/s eta 0:00:11\n",
      "   --- ------------------------------------ 2.3/24.5 MB 2.1 MB/s eta 0:00:11\n",
      "   --- ------------------------------------ 2.4/24.5 MB 2.0 MB/s eta 0:00:11\n",
      "   --- ------------------------------------ 2.4/24.5 MB 2.1 MB/s eta 0:00:11\n",
      "   ---- ----------------------------------- 2.6/24.5 MB 2.1 MB/s eta 0:00:11\n",
      "   ---- ----------------------------------- 2.7/24.5 MB 2.1 MB/s eta 0:00:11\n",
      "   ---- ----------------------------------- 2.8/24.5 MB 2.1 MB/s eta 0:00:11\n",
      "   ---- ----------------------------------- 2.8/24.5 MB 2.1 MB/s eta 0:00:11\n",
      "   ---- ----------------------------------- 3.0/24.5 MB 2.1 MB/s eta 0:00:11\n",
      "   ----- ---------------------------------- 3.1/24.5 MB 2.1 MB/s eta 0:00:11\n",
      "   ----- ---------------------------------- 3.2/24.5 MB 2.1 MB/s eta 0:00:11\n",
      "   ----- ---------------------------------- 3.3/24.5 MB 2.1 MB/s eta 0:00:10\n",
      "   ----- ---------------------------------- 3.4/24.5 MB 2.1 MB/s eta 0:00:10\n",
      "   ----- ---------------------------------- 3.4/24.5 MB 2.1 MB/s eta 0:00:11\n",
      "   ----- ---------------------------------- 3.5/24.5 MB 2.1 MB/s eta 0:00:11\n",
      "   ----- ---------------------------------- 3.5/24.5 MB 2.1 MB/s eta 0:00:11\n",
      "   ----- ---------------------------------- 3.5/24.5 MB 2.0 MB/s eta 0:00:11\n",
      "   ----- ---------------------------------- 3.6/24.5 MB 2.0 MB/s eta 0:00:11\n",
      "   ----- ---------------------------------- 3.6/24.5 MB 2.0 MB/s eta 0:00:11\n",
      "   ----- ---------------------------------- 3.6/24.5 MB 1.9 MB/s eta 0:00:11\n",
      "   ------ --------------------------------- 3.8/24.5 MB 2.0 MB/s eta 0:00:11\n",
      "   ------ --------------------------------- 4.0/24.5 MB 2.0 MB/s eta 0:00:11\n",
      "   ------ --------------------------------- 4.0/24.5 MB 2.0 MB/s eta 0:00:11\n",
      "   ------ --------------------------------- 4.1/24.5 MB 2.0 MB/s eta 0:00:11\n",
      "   ------ --------------------------------- 4.2/24.5 MB 2.0 MB/s eta 0:00:11\n",
      "   ------ --------------------------------- 4.3/24.5 MB 2.0 MB/s eta 0:00:11\n",
      "   ------- -------------------------------- 4.4/24.5 MB 2.0 MB/s eta 0:00:11\n",
      "   ------- -------------------------------- 4.5/24.5 MB 2.0 MB/s eta 0:00:10\n",
      "   ------- -------------------------------- 4.6/24.5 MB 2.0 MB/s eta 0:00:10\n",
      "   ------- -------------------------------- 4.7/24.5 MB 2.0 MB/s eta 0:00:10\n",
      "   ------- -------------------------------- 4.8/24.5 MB 2.1 MB/s eta 0:00:10\n",
      "   -------- ------------------------------- 5.0/24.5 MB 2.1 MB/s eta 0:00:10\n",
      "   -------- ------------------------------- 5.0/24.5 MB 2.0 MB/s eta 0:00:10\n",
      "   -------- ------------------------------- 5.0/24.5 MB 2.0 MB/s eta 0:00:10\n",
      "   -------- ------------------------------- 5.2/24.5 MB 2.0 MB/s eta 0:00:10\n",
      "   -------- ------------------------------- 5.2/24.5 MB 2.1 MB/s eta 0:00:10\n",
      "   -------- ------------------------------- 5.3/24.5 MB 2.0 MB/s eta 0:00:10\n",
      "   -------- ------------------------------- 5.3/24.5 MB 2.0 MB/s eta 0:00:10\n",
      "   -------- ------------------------------- 5.4/24.5 MB 2.0 MB/s eta 0:00:10\n",
      "   -------- ------------------------------- 5.5/24.5 MB 2.0 MB/s eta 0:00:10\n",
      "   --------- ------------------------------ 5.6/24.5 MB 2.0 MB/s eta 0:00:10\n",
      "   --------- ------------------------------ 5.7/24.5 MB 2.0 MB/s eta 0:00:10\n",
      "   --------- ------------------------------ 5.8/24.5 MB 2.0 MB/s eta 0:00:10\n",
      "   --------- ------------------------------ 6.0/24.5 MB 2.0 MB/s eta 0:00:10\n",
      "   --------- ------------------------------ 6.0/24.5 MB 2.1 MB/s eta 0:00:10\n",
      "   --------- ------------------------------ 6.0/24.5 MB 2.1 MB/s eta 0:00:10\n",
      "   ---------- ----------------------------- 6.1/24.5 MB 2.0 MB/s eta 0:00:10\n",
      "   ---------- ----------------------------- 6.2/24.5 MB 2.0 MB/s eta 0:00:09\n",
      "   ---------- ----------------------------- 6.3/24.5 MB 2.0 MB/s eta 0:00:09\n",
      "   ---------- ----------------------------- 6.3/24.5 MB 2.0 MB/s eta 0:00:09\n",
      "   ---------- ----------------------------- 6.5/24.5 MB 2.0 MB/s eta 0:00:09\n",
      "   ---------- ----------------------------- 6.5/24.5 MB 2.0 MB/s eta 0:00:10\n",
      "   ---------- ----------------------------- 6.6/24.5 MB 2.0 MB/s eta 0:00:09\n",
      "   ---------- ----------------------------- 6.6/24.5 MB 2.0 MB/s eta 0:00:09\n",
      "   ----------- ---------------------------- 6.8/24.5 MB 2.0 MB/s eta 0:00:09\n",
      "   ----------- ---------------------------- 6.8/24.5 MB 2.0 MB/s eta 0:00:09\n",
      "   ----------- ---------------------------- 6.9/24.5 MB 2.0 MB/s eta 0:00:09\n",
      "   ----------- ---------------------------- 7.0/24.5 MB 2.0 MB/s eta 0:00:09\n",
      "   ----------- ---------------------------- 7.0/24.5 MB 2.0 MB/s eta 0:00:09\n",
      "   ----------- ---------------------------- 7.2/24.5 MB 2.0 MB/s eta 0:00:09\n",
      "   ----------- ---------------------------- 7.2/24.5 MB 2.0 MB/s eta 0:00:09\n",
      "   ----------- ---------------------------- 7.3/24.5 MB 2.0 MB/s eta 0:00:09\n",
      "   ------------ --------------------------- 7.4/24.5 MB 2.0 MB/s eta 0:00:09\n",
      "   ------------ --------------------------- 7.5/24.5 MB 2.0 MB/s eta 0:00:09\n",
      "   ------------ --------------------------- 7.6/24.5 MB 2.0 MB/s eta 0:00:09\n",
      "   ------------ --------------------------- 7.6/24.5 MB 2.0 MB/s eta 0:00:09\n",
      "   ------------ --------------------------- 7.7/24.5 MB 2.0 MB/s eta 0:00:09\n",
      "   ------------ --------------------------- 7.8/24.5 MB 2.0 MB/s eta 0:00:09\n",
      "   ------------ --------------------------- 7.9/24.5 MB 2.0 MB/s eta 0:00:09\n",
      "   ------------ --------------------------- 7.9/24.5 MB 2.0 MB/s eta 0:00:09\n",
      "   ------------- -------------------------- 8.0/24.5 MB 2.0 MB/s eta 0:00:09\n",
      "   ------------- -------------------------- 8.1/24.5 MB 2.0 MB/s eta 0:00:09\n",
      "   ------------- -------------------------- 8.1/24.5 MB 2.0 MB/s eta 0:00:09\n",
      "   ------------- -------------------------- 8.3/24.5 MB 2.0 MB/s eta 0:00:09\n",
      "   ------------- -------------------------- 8.3/24.5 MB 2.0 MB/s eta 0:00:09\n",
      "   ------------- -------------------------- 8.4/24.5 MB 2.0 MB/s eta 0:00:09\n",
      "   ------------- -------------------------- 8.5/24.5 MB 2.0 MB/s eta 0:00:09\n",
      "   ------------- -------------------------- 8.5/24.5 MB 2.0 MB/s eta 0:00:09\n",
      "   -------------- ------------------------- 8.6/24.5 MB 2.0 MB/s eta 0:00:09\n",
      "   -------------- ------------------------- 8.7/24.5 MB 2.0 MB/s eta 0:00:09\n",
      "   -------------- ------------------------- 8.8/24.5 MB 2.0 MB/s eta 0:00:08\n",
      "   -------------- ------------------------- 8.9/24.5 MB 2.0 MB/s eta 0:00:08\n",
      "   -------------- ------------------------- 9.0/24.5 MB 2.0 MB/s eta 0:00:08\n",
      "   -------------- ------------------------- 9.1/24.5 MB 2.0 MB/s eta 0:00:08\n",
      "   --------------- ------------------------ 9.2/24.5 MB 2.0 MB/s eta 0:00:08\n",
      "   --------------- ------------------------ 9.3/24.5 MB 2.0 MB/s eta 0:00:08\n",
      "   --------------- ------------------------ 9.4/24.5 MB 2.0 MB/s eta 0:00:08\n",
      "   --------------- ------------------------ 9.5/24.5 MB 2.0 MB/s eta 0:00:08\n",
      "   --------------- ------------------------ 9.7/24.5 MB 2.0 MB/s eta 0:00:08\n",
      "   --------------- ------------------------ 9.7/24.5 MB 2.0 MB/s eta 0:00:08\n",
      "   ---------------- ----------------------- 9.8/24.5 MB 2.0 MB/s eta 0:00:08\n",
      "   ---------------- ----------------------- 9.9/24.5 MB 2.0 MB/s eta 0:00:08\n",
      "   ---------------- ----------------------- 10.0/24.5 MB 2.0 MB/s eta 0:00:08\n",
      "   ---------------- ----------------------- 10.1/24.5 MB 2.0 MB/s eta 0:00:08\n",
      "   ---------------- ----------------------- 10.2/24.5 MB 2.0 MB/s eta 0:00:08\n",
      "   ---------------- ----------------------- 10.2/24.5 MB 2.0 MB/s eta 0:00:08\n",
      "   ---------------- ----------------------- 10.2/24.5 MB 2.0 MB/s eta 0:00:08\n",
      "   ---------------- ----------------------- 10.2/24.5 MB 2.0 MB/s eta 0:00:08\n",
      "   ---------------- ----------------------- 10.3/24.5 MB 2.0 MB/s eta 0:00:08\n",
      "   ---------------- ----------------------- 10.3/24.5 MB 2.0 MB/s eta 0:00:08\n",
      "   ---------------- ----------------------- 10.3/24.5 MB 1.9 MB/s eta 0:00:08\n",
      "   ---------------- ----------------------- 10.4/24.5 MB 1.9 MB/s eta 0:00:08\n",
      "   ----------------- ---------------------- 10.5/24.5 MB 1.9 MB/s eta 0:00:08\n",
      "   ----------------- ---------------------- 10.5/24.5 MB 1.9 MB/s eta 0:00:08\n",
      "   ----------------- ---------------------- 10.6/24.5 MB 1.9 MB/s eta 0:00:08\n",
      "   ----------------- ---------------------- 10.7/24.5 MB 1.9 MB/s eta 0:00:08\n",
      "   ----------------- ---------------------- 10.8/24.5 MB 1.9 MB/s eta 0:00:08\n",
      "   ----------------- ---------------------- 10.8/24.5 MB 1.9 MB/s eta 0:00:08\n",
      "   ----------------- ---------------------- 10.9/24.5 MB 1.9 MB/s eta 0:00:08\n",
      "   ----------------- ---------------------- 10.9/24.5 MB 1.9 MB/s eta 0:00:08\n",
      "   ----------------- ---------------------- 10.9/24.5 MB 1.9 MB/s eta 0:00:08\n",
      "   ------------------ --------------------- 11.0/24.5 MB 1.9 MB/s eta 0:00:08\n",
      "   ------------------ --------------------- 11.1/24.5 MB 1.9 MB/s eta 0:00:08\n",
      "   ------------------ --------------------- 11.2/24.5 MB 1.9 MB/s eta 0:00:07\n",
      "   ------------------ --------------------- 11.2/24.5 MB 1.9 MB/s eta 0:00:07\n",
      "   ------------------ --------------------- 11.3/24.5 MB 1.9 MB/s eta 0:00:07\n",
      "   ------------------ --------------------- 11.4/24.5 MB 1.9 MB/s eta 0:00:07\n",
      "   ------------------ --------------------- 11.4/24.5 MB 1.9 MB/s eta 0:00:08\n",
      "   ------------------ --------------------- 11.5/24.5 MB 1.8 MB/s eta 0:00:08\n",
      "   ------------------ --------------------- 11.5/24.5 MB 1.8 MB/s eta 0:00:08\n",
      "   ------------------- -------------------- 11.7/24.5 MB 1.8 MB/s eta 0:00:07\n",
      "   ------------------- -------------------- 11.7/24.5 MB 1.8 MB/s eta 0:00:07\n",
      "   ------------------- -------------------- 11.8/24.5 MB 1.8 MB/s eta 0:00:07\n",
      "   ------------------- -------------------- 11.8/24.5 MB 1.8 MB/s eta 0:00:07\n",
      "   ------------------- -------------------- 11.9/24.5 MB 1.8 MB/s eta 0:00:07\n",
      "   ------------------- -------------------- 11.9/24.5 MB 1.8 MB/s eta 0:00:07\n",
      "   ------------------- -------------------- 12.0/24.5 MB 1.8 MB/s eta 0:00:07\n",
      "   ------------------- -------------------- 12.0/24.5 MB 1.8 MB/s eta 0:00:07\n",
      "   ------------------- -------------------- 12.1/24.5 MB 1.8 MB/s eta 0:00:07\n",
      "   ------------------- -------------------- 12.1/24.5 MB 1.8 MB/s eta 0:00:07\n",
      "   ------------------- -------------------- 12.2/24.5 MB 1.8 MB/s eta 0:00:07\n",
      "   -------------------- ------------------- 12.3/24.5 MB 1.8 MB/s eta 0:00:07\n",
      "   -------------------- ------------------- 12.3/24.5 MB 1.8 MB/s eta 0:00:07\n",
      "   -------------------- ------------------- 12.4/24.5 MB 1.8 MB/s eta 0:00:07\n",
      "   -------------------- ------------------- 12.5/24.5 MB 1.8 MB/s eta 0:00:07\n",
      "   -------------------- ------------------- 12.5/24.5 MB 1.8 MB/s eta 0:00:07\n",
      "   -------------------- ------------------- 12.6/24.5 MB 1.8 MB/s eta 0:00:07\n",
      "   -------------------- ------------------- 12.6/24.5 MB 1.8 MB/s eta 0:00:07\n",
      "   -------------------- ------------------- 12.7/24.5 MB 1.8 MB/s eta 0:00:07\n",
      "   -------------------- ------------------- 12.8/24.5 MB 1.8 MB/s eta 0:00:07\n",
      "   -------------------- ------------------- 12.9/24.5 MB 1.8 MB/s eta 0:00:07\n",
      "   --------------------- ------------------ 12.9/24.5 MB 1.8 MB/s eta 0:00:07\n",
      "   --------------------- ------------------ 13.0/24.5 MB 1.8 MB/s eta 0:00:07\n",
      "   --------------------- ------------------ 13.0/24.5 MB 1.8 MB/s eta 0:00:07\n",
      "   --------------------- ------------------ 13.1/24.5 MB 1.8 MB/s eta 0:00:07\n",
      "   --------------------- ------------------ 13.1/24.5 MB 1.8 MB/s eta 0:00:07\n",
      "   --------------------- ------------------ 13.1/24.5 MB 1.8 MB/s eta 0:00:07\n",
      "   --------------------- ------------------ 13.2/24.5 MB 1.7 MB/s eta 0:00:07\n",
      "   --------------------- ------------------ 13.2/24.5 MB 1.7 MB/s eta 0:00:07\n",
      "   --------------------- ------------------ 13.3/24.5 MB 1.7 MB/s eta 0:00:07\n",
      "   --------------------- ------------------ 13.3/24.5 MB 1.7 MB/s eta 0:00:07\n",
      "   --------------------- ------------------ 13.4/24.5 MB 1.7 MB/s eta 0:00:07\n",
      "   --------------------- ------------------ 13.5/24.5 MB 1.7 MB/s eta 0:00:07\n",
      "   ---------------------- ----------------- 13.6/24.5 MB 1.7 MB/s eta 0:00:07\n",
      "   ---------------------- ----------------- 13.6/24.5 MB 1.7 MB/s eta 0:00:07\n",
      "   ---------------------- ----------------- 13.7/24.5 MB 1.7 MB/s eta 0:00:07\n",
      "   ---------------------- ----------------- 13.7/24.5 MB 1.7 MB/s eta 0:00:07\n",
      "   ---------------------- ----------------- 13.8/24.5 MB 1.7 MB/s eta 0:00:07\n",
      "   ---------------------- ----------------- 13.9/24.5 MB 1.7 MB/s eta 0:00:07\n",
      "   ---------------------- ----------------- 14.0/24.5 MB 1.7 MB/s eta 0:00:07\n",
      "   ---------------------- ----------------- 14.0/24.5 MB 1.7 MB/s eta 0:00:07\n",
      "   ----------------------- ---------------- 14.1/24.5 MB 1.7 MB/s eta 0:00:07\n",
      "   ----------------------- ---------------- 14.2/24.5 MB 1.7 MB/s eta 0:00:07\n",
      "   ----------------------- ---------------- 14.2/24.5 MB 1.7 MB/s eta 0:00:07\n",
      "   ----------------------- ---------------- 14.2/24.5 MB 1.7 MB/s eta 0:00:07\n",
      "   ----------------------- ---------------- 14.3/24.5 MB 1.7 MB/s eta 0:00:07\n",
      "   ----------------------- ---------------- 14.4/24.5 MB 1.7 MB/s eta 0:00:06\n",
      "   ----------------------- ---------------- 14.4/24.5 MB 1.7 MB/s eta 0:00:06\n",
      "   ----------------------- ---------------- 14.5/24.5 MB 1.7 MB/s eta 0:00:06\n",
      "   ----------------------- ---------------- 14.5/24.5 MB 1.7 MB/s eta 0:00:06\n",
      "   ----------------------- ---------------- 14.5/24.5 MB 1.7 MB/s eta 0:00:06\n",
      "   ----------------------- ---------------- 14.6/24.5 MB 1.7 MB/s eta 0:00:06\n",
      "   ----------------------- ---------------- 14.6/24.5 MB 1.7 MB/s eta 0:00:06\n",
      "   ----------------------- ---------------- 14.7/24.5 MB 1.6 MB/s eta 0:00:06\n",
      "   ------------------------ --------------- 14.7/24.5 MB 1.6 MB/s eta 0:00:06\n",
      "   ------------------------ --------------- 14.8/24.5 MB 1.6 MB/s eta 0:00:06\n",
      "   ------------------------ --------------- 14.9/24.5 MB 1.6 MB/s eta 0:00:06\n",
      "   ------------------------ --------------- 14.9/24.5 MB 1.6 MB/s eta 0:00:06\n",
      "   ------------------------ --------------- 15.0/24.5 MB 1.6 MB/s eta 0:00:06\n",
      "   ------------------------ --------------- 15.0/24.5 MB 1.6 MB/s eta 0:00:06\n",
      "   ------------------------ --------------- 15.1/24.5 MB 1.6 MB/s eta 0:00:06\n",
      "   ------------------------ --------------- 15.2/24.5 MB 1.6 MB/s eta 0:00:06\n",
      "   ------------------------ --------------- 15.2/24.5 MB 1.6 MB/s eta 0:00:06\n",
      "   ------------------------- -------------- 15.3/24.5 MB 1.6 MB/s eta 0:00:06\n",
      "   ------------------------- -------------- 15.4/24.5 MB 1.6 MB/s eta 0:00:06\n",
      "   ------------------------- -------------- 15.4/24.5 MB 1.6 MB/s eta 0:00:06\n",
      "   ------------------------- -------------- 15.5/24.5 MB 1.6 MB/s eta 0:00:06\n",
      "   ------------------------- -------------- 15.5/24.5 MB 1.6 MB/s eta 0:00:06\n",
      "   ------------------------- -------------- 15.6/24.5 MB 1.6 MB/s eta 0:00:06\n",
      "   ------------------------- -------------- 15.6/24.5 MB 1.6 MB/s eta 0:00:06\n",
      "   ------------------------- -------------- 15.7/24.5 MB 1.6 MB/s eta 0:00:06\n",
      "   ------------------------- -------------- 15.8/24.5 MB 1.6 MB/s eta 0:00:06\n",
      "   ------------------------- -------------- 15.8/24.5 MB 1.6 MB/s eta 0:00:06\n",
      "   ------------------------- -------------- 15.9/24.5 MB 1.6 MB/s eta 0:00:06\n",
      "   -------------------------- ------------- 15.9/24.5 MB 1.6 MB/s eta 0:00:06\n",
      "   -------------------------- ------------- 16.0/24.5 MB 1.6 MB/s eta 0:00:06\n",
      "   -------------------------- ------------- 16.0/24.5 MB 1.6 MB/s eta 0:00:06\n",
      "   -------------------------- ------------- 16.1/24.5 MB 1.6 MB/s eta 0:00:06\n",
      "   -------------------------- ------------- 16.1/24.5 MB 1.6 MB/s eta 0:00:06\n",
      "   -------------------------- ------------- 16.1/24.5 MB 1.5 MB/s eta 0:00:06\n",
      "   -------------------------- ------------- 16.2/24.5 MB 1.5 MB/s eta 0:00:06\n",
      "   -------------------------- ------------- 16.2/24.5 MB 1.5 MB/s eta 0:00:06\n",
      "   -------------------------- ------------- 16.3/24.5 MB 1.5 MB/s eta 0:00:06\n",
      "   -------------------------- ------------- 16.4/24.5 MB 1.5 MB/s eta 0:00:06\n",
      "   -------------------------- ------------- 16.4/24.5 MB 1.5 MB/s eta 0:00:06\n",
      "   -------------------------- ------------- 16.4/24.5 MB 1.5 MB/s eta 0:00:06\n",
      "   -------------------------- ------------- 16.4/24.5 MB 1.5 MB/s eta 0:00:06\n",
      "   --------------------------- ------------ 16.5/24.5 MB 1.5 MB/s eta 0:00:06\n",
      "   --------------------------- ------------ 16.6/24.5 MB 1.5 MB/s eta 0:00:06\n",
      "   --------------------------- ------------ 16.6/24.5 MB 1.5 MB/s eta 0:00:06\n",
      "   --------------------------- ------------ 16.7/24.5 MB 1.5 MB/s eta 0:00:06\n",
      "   --------------------------- ------------ 16.8/24.5 MB 1.5 MB/s eta 0:00:06\n",
      "   --------------------------- ------------ 16.8/24.5 MB 1.5 MB/s eta 0:00:06\n",
      "   --------------------------- ------------ 16.9/24.5 MB 1.5 MB/s eta 0:00:06\n",
      "   --------------------------- ------------ 17.0/24.5 MB 1.5 MB/s eta 0:00:06\n",
      "   --------------------------- ------------ 17.0/24.5 MB 1.5 MB/s eta 0:00:05\n",
      "   --------------------------- ------------ 17.1/24.5 MB 1.5 MB/s eta 0:00:05\n",
      "   --------------------------- ------------ 17.1/24.5 MB 1.5 MB/s eta 0:00:05\n",
      "   ---------------------------- ----------- 17.2/24.5 MB 1.5 MB/s eta 0:00:05\n",
      "   ---------------------------- ----------- 17.2/24.5 MB 1.5 MB/s eta 0:00:05\n",
      "   ---------------------------- ----------- 17.3/24.5 MB 1.5 MB/s eta 0:00:05\n",
      "   ---------------------------- ----------- 17.4/24.5 MB 1.5 MB/s eta 0:00:05\n",
      "   ---------------------------- ----------- 17.4/24.5 MB 1.5 MB/s eta 0:00:05\n",
      "   ---------------------------- ----------- 17.5/24.5 MB 1.5 MB/s eta 0:00:05\n",
      "   ---------------------------- ----------- 17.5/24.5 MB 1.5 MB/s eta 0:00:05\n",
      "   ---------------------------- ----------- 17.5/24.5 MB 1.5 MB/s eta 0:00:05\n",
      "   ---------------------------- ----------- 17.6/24.5 MB 1.5 MB/s eta 0:00:05\n",
      "   ---------------------------- ----------- 17.7/24.5 MB 1.5 MB/s eta 0:00:05\n",
      "   ---------------------------- ----------- 17.7/24.5 MB 1.5 MB/s eta 0:00:05\n",
      "   ----------------------------- ---------- 17.8/24.5 MB 1.5 MB/s eta 0:00:05\n",
      "   ----------------------------- ---------- 17.9/24.5 MB 1.5 MB/s eta 0:00:05\n",
      "   ----------------------------- ---------- 18.0/24.5 MB 1.5 MB/s eta 0:00:05\n",
      "   ----------------------------- ---------- 18.0/24.5 MB 1.5 MB/s eta 0:00:05\n",
      "   ----------------------------- ---------- 18.1/24.5 MB 1.5 MB/s eta 0:00:05\n",
      "   ----------------------------- ---------- 18.2/24.5 MB 1.5 MB/s eta 0:00:05\n",
      "   ----------------------------- ---------- 18.2/24.5 MB 1.5 MB/s eta 0:00:05\n",
      "   ----------------------------- ---------- 18.3/24.5 MB 1.5 MB/s eta 0:00:05\n",
      "   ----------------------------- ---------- 18.4/24.5 MB 1.5 MB/s eta 0:00:05\n",
      "   ------------------------------ --------- 18.4/24.5 MB 1.5 MB/s eta 0:00:05\n",
      "   ------------------------------ --------- 18.5/24.5 MB 1.5 MB/s eta 0:00:05\n",
      "   ------------------------------ --------- 18.6/24.5 MB 1.5 MB/s eta 0:00:05\n",
      "   ------------------------------ --------- 18.6/24.5 MB 1.5 MB/s eta 0:00:05\n",
      "   ------------------------------ --------- 18.7/24.5 MB 1.5 MB/s eta 0:00:05\n",
      "   ------------------------------ --------- 18.7/24.5 MB 1.4 MB/s eta 0:00:04\n",
      "   ------------------------------ --------- 18.9/24.5 MB 1.5 MB/s eta 0:00:04\n",
      "   ------------------------------ --------- 18.9/24.5 MB 1.5 MB/s eta 0:00:04\n",
      "   ------------------------------- -------- 19.0/24.5 MB 1.5 MB/s eta 0:00:04\n",
      "   ------------------------------- -------- 19.1/24.5 MB 1.4 MB/s eta 0:00:04\n",
      "   ------------------------------- -------- 19.1/24.5 MB 1.4 MB/s eta 0:00:04\n",
      "   ------------------------------- -------- 19.2/24.5 MB 1.4 MB/s eta 0:00:04\n",
      "   ------------------------------- -------- 19.3/24.5 MB 1.4 MB/s eta 0:00:04\n",
      "   ------------------------------- -------- 19.3/24.5 MB 1.4 MB/s eta 0:00:04\n",
      "   ------------------------------- -------- 19.3/24.5 MB 1.4 MB/s eta 0:00:04\n",
      "   ------------------------------- -------- 19.4/24.5 MB 1.4 MB/s eta 0:00:04\n",
      "   ------------------------------- -------- 19.4/24.5 MB 1.4 MB/s eta 0:00:04\n",
      "   ------------------------------- -------- 19.5/24.5 MB 1.4 MB/s eta 0:00:04\n",
      "   ------------------------------- -------- 19.6/24.5 MB 1.4 MB/s eta 0:00:04\n",
      "   -------------------------------- ------- 19.7/24.5 MB 1.4 MB/s eta 0:00:04\n",
      "   -------------------------------- ------- 19.7/24.5 MB 1.4 MB/s eta 0:00:04\n",
      "   -------------------------------- ------- 19.8/24.5 MB 1.4 MB/s eta 0:00:04\n",
      "   -------------------------------- ------- 19.8/24.5 MB 1.4 MB/s eta 0:00:04\n",
      "   -------------------------------- ------- 19.9/24.5 MB 1.4 MB/s eta 0:00:04\n",
      "   -------------------------------- ------- 19.9/24.5 MB 1.4 MB/s eta 0:00:04\n",
      "   -------------------------------- ------- 19.9/24.5 MB 1.4 MB/s eta 0:00:04\n",
      "   -------------------------------- ------- 19.9/24.5 MB 1.4 MB/s eta 0:00:04\n",
      "   -------------------------------- ------- 19.9/24.5 MB 1.4 MB/s eta 0:00:04\n",
      "   -------------------------------- ------- 19.9/24.5 MB 1.4 MB/s eta 0:00:04\n",
      "   -------------------------------- ------- 19.9/24.5 MB 1.4 MB/s eta 0:00:04\n",
      "   -------------------------------- ------- 19.9/24.5 MB 1.4 MB/s eta 0:00:04\n",
      "   -------------------------------- ------- 19.9/24.5 MB 1.3 MB/s eta 0:00:04\n",
      "   -------------------------------- ------- 20.0/24.5 MB 1.3 MB/s eta 0:00:04\n",
      "   -------------------------------- ------- 20.0/24.5 MB 1.3 MB/s eta 0:00:04\n",
      "   -------------------------------- ------- 20.0/24.5 MB 1.3 MB/s eta 0:00:04\n",
      "   -------------------------------- ------- 20.1/24.5 MB 1.3 MB/s eta 0:00:04\n",
      "   -------------------------------- ------- 20.2/24.5 MB 1.3 MB/s eta 0:00:04\n",
      "   -------------------------------- ------- 20.2/24.5 MB 1.3 MB/s eta 0:00:04\n",
      "   --------------------------------- ------ 20.2/24.5 MB 1.3 MB/s eta 0:00:04\n",
      "   --------------------------------- ------ 20.3/24.5 MB 1.3 MB/s eta 0:00:04\n",
      "   --------------------------------- ------ 20.4/24.5 MB 1.3 MB/s eta 0:00:04\n",
      "   --------------------------------- ------ 20.4/24.5 MB 1.3 MB/s eta 0:00:04\n",
      "   --------------------------------- ------ 20.5/24.5 MB 1.3 MB/s eta 0:00:04\n",
      "   --------------------------------- ------ 20.5/24.5 MB 1.3 MB/s eta 0:00:03\n",
      "   --------------------------------- ------ 20.6/24.5 MB 1.3 MB/s eta 0:00:03\n",
      "   --------------------------------- ------ 20.6/24.5 MB 1.3 MB/s eta 0:00:03\n",
      "   --------------------------------- ------ 20.7/24.5 MB 1.3 MB/s eta 0:00:03\n",
      "   --------------------------------- ------ 20.7/24.5 MB 1.3 MB/s eta 0:00:03\n",
      "   --------------------------------- ------ 20.8/24.5 MB 1.3 MB/s eta 0:00:03\n",
      "   --------------------------------- ------ 20.8/24.5 MB 1.3 MB/s eta 0:00:03\n",
      "   ---------------------------------- ----- 20.8/24.5 MB 1.3 MB/s eta 0:00:03\n",
      "   ---------------------------------- ----- 20.9/24.5 MB 1.3 MB/s eta 0:00:03\n",
      "   ---------------------------------- ----- 21.0/24.5 MB 1.3 MB/s eta 0:00:03\n",
      "   ---------------------------------- ----- 21.0/24.5 MB 1.3 MB/s eta 0:00:03\n",
      "   ---------------------------------- ----- 21.1/24.5 MB 1.3 MB/s eta 0:00:03\n",
      "   ---------------------------------- ----- 21.2/24.5 MB 1.3 MB/s eta 0:00:03\n",
      "   ---------------------------------- ----- 21.2/24.5 MB 1.3 MB/s eta 0:00:03\n",
      "   ---------------------------------- ----- 21.3/24.5 MB 1.3 MB/s eta 0:00:03\n",
      "   ---------------------------------- ----- 21.4/24.5 MB 1.3 MB/s eta 0:00:03\n",
      "   ----------------------------------- ---- 21.4/24.5 MB 1.3 MB/s eta 0:00:03\n",
      "   ----------------------------------- ---- 21.5/24.5 MB 1.3 MB/s eta 0:00:03\n",
      "   ----------------------------------- ---- 21.6/24.5 MB 1.3 MB/s eta 0:00:03\n",
      "   ----------------------------------- ---- 21.6/24.5 MB 1.3 MB/s eta 0:00:03\n",
      "   ----------------------------------- ---- 21.7/24.5 MB 1.3 MB/s eta 0:00:03\n",
      "   ----------------------------------- ---- 21.8/24.5 MB 1.3 MB/s eta 0:00:03\n",
      "   ----------------------------------- ---- 21.8/24.5 MB 1.3 MB/s eta 0:00:03\n",
      "   ----------------------------------- ---- 21.9/24.5 MB 1.3 MB/s eta 0:00:02\n",
      "   ----------------------------------- ---- 22.0/24.5 MB 1.3 MB/s eta 0:00:02\n",
      "   ------------------------------------ --- 22.1/24.5 MB 1.3 MB/s eta 0:00:02\n",
      "   ------------------------------------ --- 22.1/24.5 MB 1.3 MB/s eta 0:00:02\n",
      "   ------------------------------------ --- 22.2/24.5 MB 1.3 MB/s eta 0:00:02\n",
      "   ------------------------------------ --- 22.3/24.5 MB 1.3 MB/s eta 0:00:02\n",
      "   ------------------------------------ --- 22.4/24.5 MB 1.3 MB/s eta 0:00:02\n",
      "   ------------------------------------ --- 22.5/24.5 MB 1.3 MB/s eta 0:00:02\n",
      "   ------------------------------------ --- 22.5/24.5 MB 1.3 MB/s eta 0:00:02\n",
      "   ------------------------------------ --- 22.6/24.5 MB 1.3 MB/s eta 0:00:02\n",
      "   ------------------------------------- -- 22.7/24.5 MB 1.3 MB/s eta 0:00:02\n",
      "   ------------------------------------- -- 22.8/24.5 MB 1.3 MB/s eta 0:00:02\n",
      "   ------------------------------------- -- 22.9/24.5 MB 1.3 MB/s eta 0:00:02\n",
      "   ------------------------------------- -- 23.0/24.5 MB 1.3 MB/s eta 0:00:02\n",
      "   ------------------------------------- -- 23.0/24.5 MB 1.3 MB/s eta 0:00:02\n",
      "   ------------------------------------- -- 23.1/24.5 MB 1.3 MB/s eta 0:00:01\n",
      "   ------------------------------------- -- 23.2/24.5 MB 1.3 MB/s eta 0:00:01\n",
      "   ------------------------------------- -- 23.3/24.5 MB 1.4 MB/s eta 0:00:01\n",
      "   -------------------------------------- - 23.3/24.5 MB 1.4 MB/s eta 0:00:01\n",
      "   -------------------------------------- - 23.3/24.5 MB 1.4 MB/s eta 0:00:01\n",
      "   -------------------------------------- - 23.4/24.5 MB 1.4 MB/s eta 0:00:01\n",
      "   -------------------------------------- - 23.4/24.5 MB 1.4 MB/s eta 0:00:01\n",
      "   -------------------------------------- - 23.5/24.5 MB 1.4 MB/s eta 0:00:01\n",
      "   -------------------------------------- - 23.5/24.5 MB 1.3 MB/s eta 0:00:01\n",
      "   -------------------------------------- - 23.6/24.5 MB 1.4 MB/s eta 0:00:01\n",
      "   -------------------------------------- - 23.6/24.5 MB 1.4 MB/s eta 0:00:01\n",
      "   -------------------------------------- - 23.7/24.5 MB 1.3 MB/s eta 0:00:01\n",
      "   -------------------------------------- - 23.7/24.5 MB 1.3 MB/s eta 0:00:01\n",
      "   -------------------------------------- - 23.7/24.5 MB 1.3 MB/s eta 0:00:01\n",
      "   -------------------------------------- - 23.8/24.5 MB 1.3 MB/s eta 0:00:01\n",
      "   -------------------------------------- - 23.8/24.5 MB 1.3 MB/s eta 0:00:01\n",
      "   ---------------------------------------  23.9/24.5 MB 1.3 MB/s eta 0:00:01\n",
      "   ---------------------------------------  24.0/24.5 MB 1.3 MB/s eta 0:00:01\n",
      "   ---------------------------------------  24.0/24.5 MB 1.3 MB/s eta 0:00:01\n",
      "   ---------------------------------------  24.1/24.5 MB 1.3 MB/s eta 0:00:01\n",
      "   ---------------------------------------  24.2/24.5 MB 1.3 MB/s eta 0:00:01\n",
      "   ---------------------------------------  24.2/24.5 MB 1.3 MB/s eta 0:00:01\n",
      "   ---------------------------------------  24.3/24.5 MB 1.3 MB/s eta 0:00:01\n",
      "   ---------------------------------------  24.4/24.5 MB 1.3 MB/s eta 0:00:01\n",
      "   ---------------------------------------  24.4/24.5 MB 1.3 MB/s eta 0:00:01\n",
      "   ---------------------------------------  24.5/24.5 MB 1.3 MB/s eta 0:00:01\n",
      "   ---------------------------------------  24.5/24.5 MB 1.3 MB/s eta 0:00:01\n",
      "   ---------------------------------------  24.5/24.5 MB 1.3 MB/s eta 0:00:01\n",
      "   ---------------------------------------- 24.5/24.5 MB 1.3 MB/s eta 0:00:00\n",
      "Downloading imageio-2.33.1-py3-none-any.whl (313 kB)\n",
      "   ---------------------------------------- 0.0/313.3 kB ? eta -:--:--\n",
      "   ----------- ---------------------------- 92.2/313.3 kB 2.6 MB/s eta 0:00:01\n",
      "   ------------------ --------------------- 143.4/313.3 kB 2.1 MB/s eta 0:00:01\n",
      "   ------------------ --------------------- 143.4/313.3 kB 2.1 MB/s eta 0:00:01\n",
      "   ------------------ --------------------- 143.4/313.3 kB 2.1 MB/s eta 0:00:01\n",
      "   --------------------- ---------------- 174.1/313.3 kB 807.1 kB/s eta 0:00:01\n",
      "   ---------------------------------------  307.2/313.3 kB 1.2 MB/s eta 0:00:01\n",
      "   ---------------------------------------- 313.3/313.3 kB 1.1 MB/s eta 0:00:00\n",
      "Downloading lazy_loader-0.3-py3-none-any.whl (9.1 kB)\n",
      "Downloading tifffile-2023.12.9-py3-none-any.whl (223 kB)\n",
      "   ---------------------------------------- 0.0/223.6 kB ? eta -:--:--\n",
      "   ---------- ----------------------------- 61.4/223.6 kB 1.6 MB/s eta 0:00:01\n",
      "   -------------------- ------------------- 112.6/223.6 kB 1.6 MB/s eta 0:00:01\n",
      "   ------------------------------- -------- 174.1/223.6 kB 1.5 MB/s eta 0:00:01\n",
      "   -------------------------------------- - 215.0/223.6 kB 1.6 MB/s eta 0:00:01\n",
      "   ---------------------------------------- 223.6/223.6 kB 1.4 MB/s eta 0:00:00\n",
      "Building wheels for collected packages: lime\n",
      "  Building wheel for lime (setup.py): started\n",
      "  Building wheel for lime (setup.py): finished with status 'done'\n",
      "  Created wheel for lime: filename=lime-0.2.0.1-py3-none-any.whl size=283842 sha256=2d8dcd8d35de6be368938b5efcdde0af41eff7b587f1b83112545b92a6cc6054\n",
      "  Stored in directory: c:\\users\\łukasz\\appdata\\local\\pip\\cache\\wheels\\85\\fa\\a3\\9c2d44c9f3cd77cf4e533b58900b2bf4487f2a17e8ec212a3d\n",
      "Successfully built lime\n",
      "Installing collected packages: tifffile, lazy_loader, imageio, scikit-image, lime\n",
      "Successfully installed imageio-2.33.1 lazy_loader-0.3 lime-0.2.0.1 scikit-image-0.22.0 tifffile-2023.12.9\n"
     ]
    },
    {
     "name": "stderr",
     "output_type": "stream",
     "text": [
      "\n",
      "[notice] A new release of pip is available: 23.3.1 -> 23.3.2\n",
      "[notice] To update, run: python.exe -m pip install --upgrade pip\n"
     ]
    }
   ],
   "source": [
    "!pip install lime"
   ]
  },
  {
   "cell_type": "code",
   "execution_count": 59,
   "metadata": {},
   "outputs": [],
   "source": [
    "import lime\n",
    "import lime.lime_tabular\n",
    "import numpy as np\n",
    "\n",
    "# Inicjalizacja explainera\n",
    "explainer = lime.lime_tabular.LimeTabularExplainer(X_train.values,\n",
    "                                                   feature_names=X_train.columns.tolist(),\n",
    "                                                   class_names=['Died', 'Survived'],\n",
    "                                                   discretize_continuous=True)\n"
   ]
  },
  {
   "cell_type": "code",
   "execution_count": 72,
   "metadata": {},
   "outputs": [
    {
     "name": "stderr",
     "output_type": "stream",
     "text": [
      "c:\\ProgramData\\anaconda3\\envs\\myenv\\Lib\\site-packages\\sklearn\\base.py:464: UserWarning: X does not have valid feature names, but RandomForestClassifier was fitted with feature names\n",
      "  warnings.warn(\n"
     ]
    },
    {
     "name": "stdout",
     "output_type": "stream",
     "text": [
      "Przykład 1:\n",
      "Klasa rzeczywista: 0\n",
      "Klasa przewidywana: 0\n",
      "Proba: [[0.73 0.27]]\n",
      "[('0.00 < Sex_male <= 1.00', -0.4315335656331305), ('Age <= 22.00', 0.12635704338142234), ('1.00 < Pclass <= 3.00', -0.0958756440653306), ('Embarked_S <= 0.00', 0.06788545441827246), ('Fare <= 7.90', -0.04430801496670611)]\n"
     ]
    },
    {
     "name": "stderr",
     "output_type": "stream",
     "text": [
      "c:\\ProgramData\\anaconda3\\envs\\myenv\\Lib\\site-packages\\sklearn\\base.py:464: UserWarning: X does not have valid feature names, but RandomForestClassifier was fitted with feature names\n",
      "  warnings.warn(\n"
     ]
    },
    {
     "data": {
      "image/png": "[encoded data removed]",
      "text/plain": [
       "<Figure size 640x480 with 1 Axes>"
      ]
     },
     "metadata": {},
     "output_type": "display_data"
    },
    {
     "name": "stderr",
     "output_type": "stream",
     "text": [
      "c:\\ProgramData\\anaconda3\\envs\\myenv\\Lib\\site-packages\\sklearn\\base.py:464: UserWarning: X does not have valid feature names, but RandomForestClassifier was fitted with feature names\n",
      "  warnings.warn(\n",
      "c:\\ProgramData\\anaconda3\\envs\\myenv\\Lib\\site-packages\\sklearn\\base.py:464: UserWarning: X does not have valid feature names, but RandomForestClassifier was fitted with feature names\n",
      "  warnings.warn(\n"
     ]
    },
    {
     "name": "stdout",
     "output_type": "stream",
     "text": [
      "Przykład 2:\n",
      "Klasa rzeczywista: 0\n",
      "Klasa przewidywana: 1\n",
      "Proba: [[0.37 0.63]]\n",
      "[('0.00 < Sex_male <= 1.00', -0.4381007413596211), ('Age <= 22.00', 0.11994735497443261), ('1.00 < Pclass <= 3.00', -0.10057480407413712), ('Embarked_S <= 0.00', 0.06773887322038448), ('Fare <= 7.90', -0.058288825987298676)]\n"
     ]
    },
    {
     "data": {
      "image/png": "[encoded data removed]",
      "text/plain": [
       "<Figure size 640x480 with 1 Axes>"
      ]
     },
     "metadata": {},
     "output_type": "display_data"
    },
    {
     "name": "stderr",
     "output_type": "stream",
     "text": [
      "c:\\ProgramData\\anaconda3\\envs\\myenv\\Lib\\site-packages\\sklearn\\base.py:464: UserWarning: X does not have valid feature names, but RandomForestClassifier was fitted with feature names\n",
      "  warnings.warn(\n",
      "c:\\ProgramData\\anaconda3\\envs\\myenv\\Lib\\site-packages\\sklearn\\base.py:464: UserWarning: X does not have valid feature names, but RandomForestClassifier was fitted with feature names\n",
      "  warnings.warn(\n"
     ]
    },
    {
     "name": "stdout",
     "output_type": "stream",
     "text": [
      "Przykład 3:\n",
      "Klasa rzeczywista: 1\n",
      "Klasa przewidywana: 0\n",
      "Proba: [[0.87 0.13]]\n",
      "[('0.00 < Sex_male <= 1.00', -0.44345389761310633), ('Pclass <= 1.00', 0.09645802107989997), ('Fare > 31.33', 0.09503525434600453), ('0.00 < Embarked_S <= 1.00', -0.06875341711730015), ('0.00 < SibSp <= 1.00', -0.027275110986541284)]\n"
     ]
    },
    {
     "data": {
      "image/png": "[encoded data removed]",
      "text/plain": [
       "<Figure size 640x480 with 1 Axes>"
      ]
     },
     "metadata": {},
     "output_type": "display_data"
    },
    {
     "name": "stderr",
     "output_type": "stream",
     "text": [
      "c:\\ProgramData\\anaconda3\\envs\\myenv\\Lib\\site-packages\\sklearn\\base.py:464: UserWarning: X does not have valid feature names, but RandomForestClassifier was fitted with feature names\n",
      "  warnings.warn(\n",
      "c:\\ProgramData\\anaconda3\\envs\\myenv\\Lib\\site-packages\\sklearn\\base.py:464: UserWarning: X does not have valid feature names, but RandomForestClassifier was fitted with feature names\n",
      "  warnings.warn(\n"
     ]
    },
    {
     "name": "stdout",
     "output_type": "stream",
     "text": [
      "Przykład 4:\n",
      "Klasa rzeczywista: 1\n",
      "Klasa przewidywana: 1\n",
      "Proba: [[0. 1.]]\n",
      "[('Sex_male <= 0.00', 0.44247255487141135), ('Pclass <= 1.00', 0.10053831231878826), ('Fare > 31.33', 0.09754576662181993), ('Embarked_S <= 0.00', 0.06032152056978969), ('0.00 < SibSp <= 1.00', -0.01804158543006347)]\n"
     ]
    },
    {
     "data": {
      "image/png": "[encoded data removed]",
      "text/plain": [
       "<Figure size 640x480 with 1 Axes>"
      ]
     },
     "metadata": {},
     "output_type": "display_data"
    }
   ],
   "source": [
    "examples = [\n",
    "    (0, 0),  # Przykład 3.3.1\n",
    "    (0, 1),  # Przykład 3.3.2\n",
    "    (1, 0),  # Przykład 3.3.3\n",
    "    (1, 1)   # Przykład 3.3.4\n",
    "]\n",
    "\n",
    "for i, example in enumerate(examples, 1):\n",
    "    true_class, predicted_class = example\n",
    "    idx_to_explain = np.where((y_test == true_class) & (rf_model.predict(X_test) == predicted_class))[0][0]\n",
    "    \n",
    "    exp = explainer.explain_instance(X_test.values[idx_to_explain], rf_model.predict_proba, num_features=5)\n",
    "    \n",
    "    print(f\"Przykład {i}:\")\n",
    "    print(f\"Klasa rzeczywista: {true_class}\")\n",
    "    print(f\"Klasa przewidywana: {predicted_class}\")\n",
    "    print(f\"Proba: {rf_model.predict_proba(X_test.values[idx_to_explain].reshape(1, -1))}\")\n",
    "    print(exp.as_list())\n",
    "    \n",
    "    exp.as_pyplot_figure()\n",
    "    plt.title(f\"Przykład {i}: Rzeczywista klasa: {true_class}, Przewidziana klasa: {predicted_class}\")\n",
    "    plt.show()"
   ]
  },
  {
   "cell_type": "code",
   "execution_count": null,
   "metadata": {},
   "outputs": [],
   "source": []
  }
 ],
 "metadata": {
  "kernelspec": {
   "display_name": "myenv",
   "language": "python",
   "name": "python3"
  },
  "language_info": {
   "codemirror_mode": {
    "name": "ipython",
    "version": 3
   },
   "file_extension": ".py",
   "mimetype": "text/x-python",
   "name": "python",
   "nbconvert_exporter": "python",
   "pygments_lexer": "ipython3",
   "version": "3.11.5"
  }
 },
 "nbformat": 4,
 "nbformat_minor": 2
}
