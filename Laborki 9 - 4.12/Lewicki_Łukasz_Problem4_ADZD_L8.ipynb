{
 "cells": [
  {
   "cell_type": "code",
   "execution_count": 12,
   "metadata": {},
   "outputs": [],
   "source": [
    "import pandas as pd\n",
    "import numpy as np\n",
    "from sklearn import datasets\n",
    "from sklearn.model_selection import train_test_split\n",
    "from sklearn.svm import SVC\n",
    "from sklearn.ensemble import RandomForestClassifier, GradientBoostingClassifier\n",
    "from sklearn.neighbors import KNeighborsClassifier\n",
    "from sklearn.metrics import classification_report, confusion_matrix\n",
    "import numpy as np\n",
    "import matplotlib.pyplot as plt\n",
    "# from keras.datasets import mnist"
   ]
  },
  {
   "cell_type": "code",
   "execution_count": null,
   "metadata": {},
   "outputs": [],
   "source": [
    "\"\"\"Problem 4\n",
    "Zbiór danych MNIST składa się z 70 000 rysunków zawierających cyfry odręcznie napisane przez uczniów szkół średnich i pracowników amerykańskiego Biura Spisu Ludności. Każdy rysunek zawiera etykietę określającą zawartą na nim cyfrę. Zbiór MNIST można zaimportować z odpowiedniego modułu (from keras.datasets import mnist).\n",
    "\n",
    "1. Wczytanie zbioru danych (Zbiór treningowy składa się z 60 000 obrazów, a zbiór testowy z 10 000 obrazów. Każdy obraz ma rozmiar 28x28 pikseli, a każda cecha opisuje natężenie szarości danego piksela i przyjmnuje wartość od 0 (biel) do 255 (czerń).\n",
    "2. Sprawdzenie wyglądu przykładowej cyfry ze zbioru uczącego i sprawdzenie etykiety.\n",
    "3. Wyświetlenie kilku/kilkunastu obrazów ze zbioru danych MNIST.\n",
    "\n",
    "4. Preprocessing:\n",
    "\t4.1. Przekształcenie macierzy 28 x 28 na wektor 784 cech. \n",
    "\t4.2. Normalizacji odcienia pikseli do zakresu [0,1].\n",
    "\n",
    "5. Uczenie na małym zbiorze:\n",
    "\t5.1. 1 klasyfikator, np. maszyna SVM w klasie SVC.\n",
    "\t5.2. Uczenie na zbiorze nie większym niż 500 obrazów.\n",
    "\t5.3. Testowanie modelu na zbiorze nie większym niż 50 obrazów.\n",
    "\t5.4. Predycja na małym zbiorze.\n",
    "\t5.5. Ewalualcja modelu.\n",
    "\t5.6. Sprawdzenie, ile obrazów zostało nieprawidłowo sklasyfikowanych.\n",
    "\t5.7. Wyświetlenie kilku nieprawidłowo sklasyfikowanych obrazów.\n",
    "\n",
    "6. Uczenie na oryginalnym zbiorze treningowym.\n",
    "\t6.1. Wybór algorytmów klasyfikujących:\n",
    "\t6.1.1. Klasyfikator Wektorów Nośnych: SVC (kernel='linear'), \n",
    "\t6.1.2. Lasy Losowe (n_estimators=100), \n",
    "\t6.1.3. Metody zespołowe ze wzmacnianiem gradientowym, Gradient Boosting (n_estimators=100, szybkość uczenia = 0.1), \n",
    "\t6.1.4. KNN (liczba najbliższych sąsiadów = 5).\n",
    "\t6.2. Trenowanie klasyfikatorów.\n",
    "\t6.3. Predykcja.\n",
    "\t6.4. Ewaluacja modeli (raport z klasyfikacji, macierz błędów).\"\"\""
   ]
  },
  {
   "cell_type": "code",
   "execution_count": 13,
   "metadata": {},
   "outputs": [],
   "source": [
    "# Zadanie 1: Wczytanie zbioru danych MNIST\n",
    "train = pd.read_csv('mnist_train.csv')\n",
    "test = pd.read_csv('mnist_test.csv')"
   ]
  },
  {
   "cell_type": "code",
   "execution_count": 15,
   "metadata": {},
   "outputs": [
    {
     "name": "stdout",
     "output_type": "stream",
     "text": [
      "(60000, 785)\n",
      "(10000, 785)\n"
     ]
    }
   ],
   "source": [
    "print(train.shape)\n",
    "print(test.shape)"
   ]
  },
  {
   "cell_type": "code",
   "execution_count": 16,
   "metadata": {},
   "outputs": [
    {
     "data": {
      "text/plain": [
       "Index(['label', '1x1', '1x2', '1x3', '1x4', '1x5', '1x6', '1x7', '1x8', '1x9',\n",
       "       ...\n",
       "       '28x19', '28x20', '28x21', '28x22', '28x23', '28x24', '28x25', '28x26',\n",
       "       '28x27', '28x28'],\n",
       "      dtype='object', length=785)"
      ]
     },
     "execution_count": 16,
     "metadata": {},
     "output_type": "execute_result"
    }
   ],
   "source": [
    "train.columns"
   ]
  },
  {
   "cell_type": "code",
   "execution_count": 25,
   "metadata": {},
   "outputs": [],
   "source": [
    "X_train = train.iloc[:, 1:]\n",
    "y_train = train['label']"
   ]
  },
  {
   "cell_type": "code",
   "execution_count": 22,
   "metadata": {},
   "outputs": [
    {
     "data": {
      "text/plain": [
       "Index(['1x1', '1x2', '1x3', '1x4', '1x5', '1x6', '1x7', '1x8', '1x9', '1x10',\n",
       "       ...\n",
       "       '28x19', '28x20', '28x21', '28x22', '28x23', '28x24', '28x25', '28x26',\n",
       "       '28x27', '28x28'],\n",
       "      dtype='object', length=784)"
      ]
     },
     "execution_count": 22,
     "metadata": {},
     "output_type": "execute_result"
    }
   ],
   "source": [
    "X_train.columns"
   ]
  }
 ],
 "metadata": {
  "kernelspec": {
   "display_name": "myenv",
   "language": "python",
   "name": "python3"
  },
  "language_info": {
   "codemirror_mode": {
    "name": "ipython",
    "version": 3
   },
   "file_extension": ".py",
   "mimetype": "text/x-python",
   "name": "python",
   "nbconvert_exporter": "python",
   "pygments_lexer": "ipython3",
   "version": "3.11.5"
  }
 },
 "nbformat": 4,
 "nbformat_minor": 2
}
