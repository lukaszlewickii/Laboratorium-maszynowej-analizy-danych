{
 "cells": [
  {
   "cell_type": "code",
   "execution_count": 29,
   "metadata": {},
   "outputs": [],
   "source": [
    "import pandas as pd\n",
    "import numpy as np\n",
    "import matplotlib.pyplot as plt\n",
    "import seaborn as sns\n",
    "from sklearn.model_selection import train_test_split\n",
    "from sklearn.tree import DecisionTreeClassifier, plot_tree\n",
    "from sklearn.ensemble import RandomForestClassifier, GradientBoostingClassifier\n",
    "from sklearn.metrics import classification_report, confusion_matrix\n",
    "from sklearn.preprocessing import OneHotEncoder"
   ]
  },
  {
   "cell_type": "code",
   "execution_count": 30,
   "metadata": {},
   "outputs": [
    {
     "data": {
      "text/plain": [
       "\"Problem 3\\nProszę o pobranie danych ze źródła:\\nhttps://www.kaggle.com/parulpandey/palmer-archipelago-antarctica-penguin-data\\n\\nZbiór danych dotyczy kilku gatunków pingwinów żyjących na wyspach archipelagu Palmera. Każdy pingwin jest opisany za pomocą 7 cech (gatunek, zamieszkiwana wyspa, długość dzioba [mm], grubość dzioba [mm], długość skrzydła [mm], masa ciała [g], płeć osobnika). \\nNależy zastosować klasyfikatory w postaci drzew decyzynych, lasów losowych oraz metod zespołowych ze wzmocnieniem gradientowym do klasyfikacji pingiwnów na podstawie ich budowy fizycznej.\\n\\n1. Przygotowanie danych.\\n1.1. Wczytanie danych zajdujących się w pliku penguins_size.csv do struktury DataFrame. \\n1.2. Sprawdzenie brakujących danych (usunięcie danych niepełnych).\\n1.3. Podstawowe statystki.\\n1.4. Usunięcie danych niepełnych.\\n1.5. Wizualizacja danych:\\t\\n\\twykres punktowy zależności długości dzioba [mm] od grubości dzioba [mm] (różnicowanie za pomocą kolumny 'spicies'),\\n\\twykres porównawczy wszystkich cech (różnicowanie za pomocą kolumny 'spicies').\\n\\twykres pudełkowy rozkładu długości dzioba w zależności od gatunku pingwina z uwzględnieniem płci (2 wykresy pudełkowe).\\n1.6. Przekształcenie danych kategorialnych - uwtowrzenie nowej struktury DataFrame:\\n\\t\\tStworzenie zmiennej fikcyjnej (dummy variables) dotyczącej gatunku pingwina.\\n\\t\\tStworzenie zmiennej fikcyjnej (dummy variables) dotyczącej zamieszkiwanej przez danego pingwina wyspy.\\n\\t\\tStworzenie zmiennej fikcyjnej (dummy variables) dotyczącej płci.\\n2. Podział zbioru danych na dane treningowe i testowe, zbiór testowy stanowi 30% całego zbioru danych, random_state = 101 (X - cechy, y - atrybut decyzyny).\\n3. Budowa modelu drzewa decyzyjnego:\\n\\t3.1. Wytrenowanie modelu.\\n\\t3.2. Wypróbowanie modelu na zbiorze testowym.\\n\\t3.3. Ewaluacja modelu na podstawie raportu z klasyfikacji i macierzy błędów.\\t\\n\\t3.4. Informacja nt. wagi cech (feature_importances_).\\n\\n4. Wizualizacja drzewa decyzyjnego (from sklearn.tree import plot_tree).\\n5. Dobór hiperparametrów (dla każdego hiperparametru trzeba wygenerować raport z klasyfikacji, macierz błędów i drzewo decyzyjne):\\n\\t5.1. Maksymalna wysokość drzewa równa 2 - przycięcie drzewa (prone) względem drzewa z punktu 3.\\n\\t5.2. maksymalna liczba liści równa 3.\\n\\t5.3. Kryterium podziału.\\n\\t\\t5.3.1. Współczynnik Giniego\\n\\t\\t5.3.2. Entropia\\n\\n6. Budowa modelu lasu losowego:\\n\\t6.1. Wytrenowanie modelu: liczba drzew klasyfikacyjnych, które będą tworzyły las równa 10, poszukiwanie najlepszej cechy wśród losowego podzbioru cech jest automatyczne, random_state = 101.\\n\\t6.2. Wypróbowanie modelu na zbiorze testowym.\\n\\t6.3. Ewaluacja modelu na podstawie raportu z klasyfikacji i macierzy błędów.\\t\\n\\t6.4. Informacja nt. wagi cech (feature_importances_).\\n\\t6.5. Dobór odpowiedniej liczby drzew klasyfikacyjnych -> zależność n (w zakresie od 1 do 50) od błędu klasyfikowania.\\n\\n7. Budowa modelu lasów ze wzmocnieniem gradientowym:\\n\\t7.1. Wytrenowanie modelu: liczba drzew klasyfikacyjnych, które będą tworzyły las równa 10, poszukiwanie najlepszej cechy wśród losowego podzbioru cech automatyczne, random_state =101.\\n\\t7.2. Wypróbowanie modelu na zbiorze testowym.\\n\\t7.3. Ewaluacja modelu na podstawie raportu z klasyfikacji i macierzy błędów.\\t\\n\\t7.4. Regulacja modelu -> metoda przeszukiwania siatki (GridSearch), liczba drzew klasyfikacyjnych, które będą tworzyć las, np. 1,5,10,20,40,100, maksymalna wysokość drzewa, np. 2,3,4,5,6.\\n\\t7.5. Zastosowanie odpowiednich parametrów i ewaluacja modelu na podstawie raportu z klasyfikacji i macierzy błędów.\""
      ]
     },
     "execution_count": 30,
     "metadata": {},
     "output_type": "execute_result"
    }
   ],
   "source": [
    "\"\"\"Problem 3\n",
    "Proszę o pobranie danych ze źródła:\n",
    "https://www.kaggle.com/parulpandey/palmer-archipelago-antarctica-penguin-data\n",
    "\n",
    "Zbiór danych dotyczy kilku gatunków pingwinów żyjących na wyspach archipelagu Palmera. Każdy pingwin jest opisany za pomocą 7 cech (gatunek, zamieszkiwana wyspa, długość dzioba [mm], grubość dzioba [mm], długość skrzydła [mm], masa ciała [g], płeć osobnika). \n",
    "Należy zastosować klasyfikatory w postaci drzew decyzynych, lasów losowych oraz metod zespołowych ze wzmocnieniem gradientowym do klasyfikacji pingiwnów na podstawie ich budowy fizycznej.\n",
    "\n",
    "1. Przygotowanie danych.\n",
    "1.1. Wczytanie danych zajdujących się w pliku penguins_size.csv do struktury DataFrame. \n",
    "1.2. Sprawdzenie brakujących danych (usunięcie danych niepełnych).\n",
    "1.3. Podstawowe statystki.\n",
    "1.4. Usunięcie danych niepełnych.\n",
    "1.5. Wizualizacja danych:\t\n",
    "\twykres punktowy zależności długości dzioba [mm] od grubości dzioba [mm] (różnicowanie za pomocą kolumny 'spicies'),\n",
    "\twykres porównawczy wszystkich cech (różnicowanie za pomocą kolumny 'spicies').\n",
    "\twykres pudełkowy rozkładu długości dzioba w zależności od gatunku pingwina z uwzględnieniem płci (2 wykresy pudełkowe).\n",
    "1.6. Przekształcenie danych kategorialnych - uwtowrzenie nowej struktury DataFrame:\n",
    "\t\tStworzenie zmiennej fikcyjnej (dummy variables) dotyczącej gatunku pingwina.\n",
    "\t\tStworzenie zmiennej fikcyjnej (dummy variables) dotyczącej zamieszkiwanej przez danego pingwina wyspy.\n",
    "\t\tStworzenie zmiennej fikcyjnej (dummy variables) dotyczącej płci.\n",
    "2. Podział zbioru danych na dane treningowe i testowe, zbiór testowy stanowi 30% całego zbioru danych, random_state = 101 (X - cechy, y - atrybut decyzyny).\n",
    "3. Budowa modelu drzewa decyzyjnego:\n",
    "\t3.1. Wytrenowanie modelu.\n",
    "\t3.2. Wypróbowanie modelu na zbiorze testowym.\n",
    "\t3.3. Ewaluacja modelu na podstawie raportu z klasyfikacji i macierzy błędów.\t\n",
    "\t3.4. Informacja nt. wagi cech (feature_importances_).\n",
    "\n",
    "4. Wizualizacja drzewa decyzyjnego (from sklearn.tree import plot_tree).\n",
    "5. Dobór hiperparametrów (dla każdego hiperparametru trzeba wygenerować raport z klasyfikacji, macierz błędów i drzewo decyzyjne):\n",
    "\t5.1. Maksymalna wysokość drzewa równa 2 - przycięcie drzewa (prone) względem drzewa z punktu 3.\n",
    "\t5.2. maksymalna liczba liści równa 3.\n",
    "\t5.3. Kryterium podziału.\n",
    "\t\t5.3.1. Współczynnik Giniego\n",
    "\t\t5.3.2. Entropia\n",
    "\n",
    "6. Budowa modelu lasu losowego:\n",
    "\t6.1. Wytrenowanie modelu: liczba drzew klasyfikacyjnych, które będą tworzyły las równa 10, poszukiwanie najlepszej cechy wśród losowego podzbioru cech jest automatyczne, random_state = 101.\n",
    "\t6.2. Wypróbowanie modelu na zbiorze testowym.\n",
    "\t6.3. Ewaluacja modelu na podstawie raportu z klasyfikacji i macierzy błędów.\t\n",
    "\t6.4. Informacja nt. wagi cech (feature_importances_).\n",
    "\t6.5. Dobór odpowiedniej liczby drzew klasyfikacyjnych -> zależność n (w zakresie od 1 do 50) od błędu klasyfikowania.\n",
    "\n",
    "7. Budowa modelu lasów ze wzmocnieniem gradientowym:\n",
    "\t7.1. Wytrenowanie modelu: liczba drzew klasyfikacyjnych, które będą tworzyły las równa 10, poszukiwanie najlepszej cechy wśród losowego podzbioru cech automatyczne, random_state =101.\n",
    "\t7.2. Wypróbowanie modelu na zbiorze testowym.\n",
    "\t7.3. Ewaluacja modelu na podstawie raportu z klasyfikacji i macierzy błędów.\t\n",
    "\t7.4. Regulacja modelu -> metoda przeszukiwania siatki (GridSearch), liczba drzew klasyfikacyjnych, które będą tworzyć las, np. 1,5,10,20,40,100, maksymalna wysokość drzewa, np. 2,3,4,5,6.\n",
    "\t7.5. Zastosowanie odpowiednich parametrów i ewaluacja modelu na podstawie raportu z klasyfikacji i macierzy błędów.\"\"\""
   ]
  },
  {
   "cell_type": "code",
   "execution_count": 31,
   "metadata": {},
   "outputs": [],
   "source": [
    "# 1. Przygotowanie danych\n",
    "# 1.1. Wczytanie danych\n",
    "data = pd.read_csv(\"penguins_size.csv\")"
   ]
  },
  {
   "cell_type": "code",
   "execution_count": 32,
   "metadata": {},
   "outputs": [
    {
     "name": "stdout",
     "output_type": "stream",
     "text": [
      "species               0\n",
      "island                0\n",
      "culmen_length_mm      2\n",
      "culmen_depth_mm       2\n",
      "flipper_length_mm     2\n",
      "body_mass_g           2\n",
      "sex                  10\n",
      "dtype: int64\n"
     ]
    }
   ],
   "source": [
    "# 1.2. Sprawdzenie brakujących danych\n",
    "print(data.isnull().sum())"
   ]
  },
  {
   "cell_type": "code",
   "execution_count": 33,
   "metadata": {},
   "outputs": [
    {
     "data": {
      "text/plain": [
       "(344, 7)"
      ]
     },
     "execution_count": 33,
     "metadata": {},
     "output_type": "execute_result"
    }
   ],
   "source": [
    "data.shape"
   ]
  },
  {
   "cell_type": "code",
   "execution_count": 34,
   "metadata": {},
   "outputs": [
    {
     "name": "stdout",
     "output_type": "stream",
     "text": [
      "       culmen_length_mm  culmen_depth_mm  flipper_length_mm  body_mass_g\n",
      "count        342.000000       342.000000         342.000000   342.000000\n",
      "mean          43.921930        17.151170         200.915205  4201.754386\n",
      "std            5.459584         1.974793          14.061714   801.954536\n",
      "min           32.100000        13.100000         172.000000  2700.000000\n",
      "25%           39.225000        15.600000         190.000000  3550.000000\n",
      "50%           44.450000        17.300000         197.000000  4050.000000\n",
      "75%           48.500000        18.700000         213.000000  4750.000000\n",
      "max           59.600000        21.500000         231.000000  6300.000000\n"
     ]
    }
   ],
   "source": [
    "# 1.3. Podstawowe statystki\n",
    "print(data.describe())"
   ]
  },
  {
   "cell_type": "code",
   "execution_count": 35,
   "metadata": {},
   "outputs": [],
   "source": [
    "# 1.4. Usunięcie danych niepełnych\n",
    "data = data.dropna()"
   ]
  },
  {
   "cell_type": "code",
   "execution_count": 36,
   "metadata": {},
   "outputs": [
    {
     "data": {
      "text/plain": [
       "(334, 7)"
      ]
     },
     "execution_count": 36,
     "metadata": {},
     "output_type": "execute_result"
    }
   ],
   "source": [
    "data.shape"
   ]
  },
  {
   "cell_type": "code",
   "execution_count": 37,
   "metadata": {},
   "outputs": [
    {
     "data": {
      "text/plain": [
       "Index(['species', 'island', 'culmen_length_mm', 'culmen_depth_mm',\n",
       "       'flipper_length_mm', 'body_mass_g', 'sex'],\n",
       "      dtype='object')"
      ]
     },
     "execution_count": 37,
     "metadata": {},
     "output_type": "execute_result"
    }
   ],
   "source": [
    "data.columns"
   ]
  },
  {
   "cell_type": "code",
   "execution_count": 38,
   "metadata": {},
   "outputs": [
    {
     "data": {
      "image/png": "[encoded data removed]",
      "text/plain": [
       "<Figure size 640x480 with 1 Axes>"
      ]
     },
     "metadata": {},
     "output_type": "display_data"
    }
   ],
   "source": [
    "# 1.5. Wizualizacja danych\n",
    "sns.scatterplot(x='culmen_length_mm', y='culmen_depth_mm', hue='species', data=data)\n",
    "plt.show()"
   ]
  },
  {
   "cell_type": "code",
   "execution_count": 41,
   "metadata": {},
   "outputs": [
    {
     "data": {
      "text/html": [
       "<div>\n",
       "<style scoped>\n",
       "    .dataframe tbody tr th:only-of-type {\n",
       "        vertical-align: middle;\n",
       "    }\n",
       "\n",
       "    .dataframe tbody tr th {\n",
       "        vertical-align: top;\n",
       "    }\n",
       "\n",
       "    .dataframe thead th {\n",
       "        text-align: right;\n",
       "    }\n",
       "</style>\n",
       "<table border=\"1\" class=\"dataframe\">\n",
       "  <thead>\n",
       "    <tr style=\"text-align: right;\">\n",
       "      <th></th>\n",
       "      <th>species</th>\n",
       "      <th>island</th>\n",
       "      <th>culmen_length_mm</th>\n",
       "      <th>culmen_depth_mm</th>\n",
       "      <th>flipper_length_mm</th>\n",
       "      <th>body_mass_g</th>\n",
       "      <th>sex</th>\n",
       "    </tr>\n",
       "  </thead>\n",
       "  <tbody>\n",
       "    <tr>\n",
       "      <th>0</th>\n",
       "      <td>Adelie</td>\n",
       "      <td>Torgersen</td>\n",
       "      <td>39.1</td>\n",
       "      <td>18.7</td>\n",
       "      <td>181.0</td>\n",
       "      <td>3750.0</td>\n",
       "      <td>MALE</td>\n",
       "    </tr>\n",
       "    <tr>\n",
       "      <th>1</th>\n",
       "      <td>Adelie</td>\n",
       "      <td>Torgersen</td>\n",
       "      <td>39.5</td>\n",
       "      <td>17.4</td>\n",
       "      <td>186.0</td>\n",
       "      <td>3800.0</td>\n",
       "      <td>FEMALE</td>\n",
       "    </tr>\n",
       "    <tr>\n",
       "      <th>2</th>\n",
       "      <td>Adelie</td>\n",
       "      <td>Torgersen</td>\n",
       "      <td>40.3</td>\n",
       "      <td>18.0</td>\n",
       "      <td>195.0</td>\n",
       "      <td>3250.0</td>\n",
       "      <td>FEMALE</td>\n",
       "    </tr>\n",
       "    <tr>\n",
       "      <th>4</th>\n",
       "      <td>Adelie</td>\n",
       "      <td>Torgersen</td>\n",
       "      <td>36.7</td>\n",
       "      <td>19.3</td>\n",
       "      <td>193.0</td>\n",
       "      <td>3450.0</td>\n",
       "      <td>FEMALE</td>\n",
       "    </tr>\n",
       "    <tr>\n",
       "      <th>5</th>\n",
       "      <td>Adelie</td>\n",
       "      <td>Torgersen</td>\n",
       "      <td>39.3</td>\n",
       "      <td>20.6</td>\n",
       "      <td>190.0</td>\n",
       "      <td>3650.0</td>\n",
       "      <td>MALE</td>\n",
       "    </tr>\n",
       "    <tr>\n",
       "      <th>...</th>\n",
       "      <td>...</td>\n",
       "      <td>...</td>\n",
       "      <td>...</td>\n",
       "      <td>...</td>\n",
       "      <td>...</td>\n",
       "      <td>...</td>\n",
       "      <td>...</td>\n",
       "    </tr>\n",
       "    <tr>\n",
       "      <th>338</th>\n",
       "      <td>Gentoo</td>\n",
       "      <td>Biscoe</td>\n",
       "      <td>47.2</td>\n",
       "      <td>13.7</td>\n",
       "      <td>214.0</td>\n",
       "      <td>4925.0</td>\n",
       "      <td>FEMALE</td>\n",
       "    </tr>\n",
       "    <tr>\n",
       "      <th>340</th>\n",
       "      <td>Gentoo</td>\n",
       "      <td>Biscoe</td>\n",
       "      <td>46.8</td>\n",
       "      <td>14.3</td>\n",
       "      <td>215.0</td>\n",
       "      <td>4850.0</td>\n",
       "      <td>FEMALE</td>\n",
       "    </tr>\n",
       "    <tr>\n",
       "      <th>341</th>\n",
       "      <td>Gentoo</td>\n",
       "      <td>Biscoe</td>\n",
       "      <td>50.4</td>\n",
       "      <td>15.7</td>\n",
       "      <td>222.0</td>\n",
       "      <td>5750.0</td>\n",
       "      <td>MALE</td>\n",
       "    </tr>\n",
       "    <tr>\n",
       "      <th>342</th>\n",
       "      <td>Gentoo</td>\n",
       "      <td>Biscoe</td>\n",
       "      <td>45.2</td>\n",
       "      <td>14.8</td>\n",
       "      <td>212.0</td>\n",
       "      <td>5200.0</td>\n",
       "      <td>FEMALE</td>\n",
       "    </tr>\n",
       "    <tr>\n",
       "      <th>343</th>\n",
       "      <td>Gentoo</td>\n",
       "      <td>Biscoe</td>\n",
       "      <td>49.9</td>\n",
       "      <td>16.1</td>\n",
       "      <td>213.0</td>\n",
       "      <td>5400.0</td>\n",
       "      <td>MALE</td>\n",
       "    </tr>\n",
       "  </tbody>\n",
       "</table>\n",
       "<p>334 rows × 7 columns</p>\n",
       "</div>"
      ],
      "text/plain": [
       "    species     island  culmen_length_mm  culmen_depth_mm  flipper_length_mm  \\\n",
       "0    Adelie  Torgersen              39.1             18.7              181.0   \n",
       "1    Adelie  Torgersen              39.5             17.4              186.0   \n",
       "2    Adelie  Torgersen              40.3             18.0              195.0   \n",
       "4    Adelie  Torgersen              36.7             19.3              193.0   \n",
       "5    Adelie  Torgersen              39.3             20.6              190.0   \n",
       "..      ...        ...               ...              ...                ...   \n",
       "338  Gentoo     Biscoe              47.2             13.7              214.0   \n",
       "340  Gentoo     Biscoe              46.8             14.3              215.0   \n",
       "341  Gentoo     Biscoe              50.4             15.7              222.0   \n",
       "342  Gentoo     Biscoe              45.2             14.8              212.0   \n",
       "343  Gentoo     Biscoe              49.9             16.1              213.0   \n",
       "\n",
       "     body_mass_g     sex  \n",
       "0         3750.0    MALE  \n",
       "1         3800.0  FEMALE  \n",
       "2         3250.0  FEMALE  \n",
       "4         3450.0  FEMALE  \n",
       "5         3650.0    MALE  \n",
       "..           ...     ...  \n",
       "338       4925.0  FEMALE  \n",
       "340       4850.0  FEMALE  \n",
       "341       5750.0    MALE  \n",
       "342       5200.0  FEMALE  \n",
       "343       5400.0    MALE  \n",
       "\n",
       "[334 rows x 7 columns]"
      ]
     },
     "execution_count": 41,
     "metadata": {},
     "output_type": "execute_result"
    }
   ],
   "source": [
    "data"
   ]
  },
  {
   "cell_type": "code",
   "execution_count": 45,
   "metadata": {},
   "outputs": [],
   "source": [
    "data_encoded = pd.get_dummies(data, columns=['species'], drop_first=True)"
   ]
  },
  {
   "cell_type": "code",
   "execution_count": 46,
   "metadata": {},
   "outputs": [
    {
     "data": {
      "text/html": [
       "<div>\n",
       "<style scoped>\n",
       "    .dataframe tbody tr th:only-of-type {\n",
       "        vertical-align: middle;\n",
       "    }\n",
       "\n",
       "    .dataframe tbody tr th {\n",
       "        vertical-align: top;\n",
       "    }\n",
       "\n",
       "    .dataframe thead th {\n",
       "        text-align: right;\n",
       "    }\n",
       "</style>\n",
       "<table border=\"1\" class=\"dataframe\">\n",
       "  <thead>\n",
       "    <tr style=\"text-align: right;\">\n",
       "      <th></th>\n",
       "      <th>island</th>\n",
       "      <th>culmen_length_mm</th>\n",
       "      <th>culmen_depth_mm</th>\n",
       "      <th>flipper_length_mm</th>\n",
       "      <th>body_mass_g</th>\n",
       "      <th>sex</th>\n",
       "      <th>species_Chinstrap</th>\n",
       "      <th>species_Gentoo</th>\n",
       "    </tr>\n",
       "  </thead>\n",
       "  <tbody>\n",
       "    <tr>\n",
       "      <th>0</th>\n",
       "      <td>Torgersen</td>\n",
       "      <td>39.1</td>\n",
       "      <td>18.7</td>\n",
       "      <td>181.0</td>\n",
       "      <td>3750.0</td>\n",
       "      <td>MALE</td>\n",
       "      <td>False</td>\n",
       "      <td>False</td>\n",
       "    </tr>\n",
       "    <tr>\n",
       "      <th>1</th>\n",
       "      <td>Torgersen</td>\n",
       "      <td>39.5</td>\n",
       "      <td>17.4</td>\n",
       "      <td>186.0</td>\n",
       "      <td>3800.0</td>\n",
       "      <td>FEMALE</td>\n",
       "      <td>False</td>\n",
       "      <td>False</td>\n",
       "    </tr>\n",
       "    <tr>\n",
       "      <th>2</th>\n",
       "      <td>Torgersen</td>\n",
       "      <td>40.3</td>\n",
       "      <td>18.0</td>\n",
       "      <td>195.0</td>\n",
       "      <td>3250.0</td>\n",
       "      <td>FEMALE</td>\n",
       "      <td>False</td>\n",
       "      <td>False</td>\n",
       "    </tr>\n",
       "    <tr>\n",
       "      <th>4</th>\n",
       "      <td>Torgersen</td>\n",
       "      <td>36.7</td>\n",
       "      <td>19.3</td>\n",
       "      <td>193.0</td>\n",
       "      <td>3450.0</td>\n",
       "      <td>FEMALE</td>\n",
       "      <td>False</td>\n",
       "      <td>False</td>\n",
       "    </tr>\n",
       "    <tr>\n",
       "      <th>5</th>\n",
       "      <td>Torgersen</td>\n",
       "      <td>39.3</td>\n",
       "      <td>20.6</td>\n",
       "      <td>190.0</td>\n",
       "      <td>3650.0</td>\n",
       "      <td>MALE</td>\n",
       "      <td>False</td>\n",
       "      <td>False</td>\n",
       "    </tr>\n",
       "    <tr>\n",
       "      <th>...</th>\n",
       "      <td>...</td>\n",
       "      <td>...</td>\n",
       "      <td>...</td>\n",
       "      <td>...</td>\n",
       "      <td>...</td>\n",
       "      <td>...</td>\n",
       "      <td>...</td>\n",
       "      <td>...</td>\n",
       "    </tr>\n",
       "    <tr>\n",
       "      <th>338</th>\n",
       "      <td>Biscoe</td>\n",
       "      <td>47.2</td>\n",
       "      <td>13.7</td>\n",
       "      <td>214.0</td>\n",
       "      <td>4925.0</td>\n",
       "      <td>FEMALE</td>\n",
       "      <td>False</td>\n",
       "      <td>True</td>\n",
       "    </tr>\n",
       "    <tr>\n",
       "      <th>340</th>\n",
       "      <td>Biscoe</td>\n",
       "      <td>46.8</td>\n",
       "      <td>14.3</td>\n",
       "      <td>215.0</td>\n",
       "      <td>4850.0</td>\n",
       "      <td>FEMALE</td>\n",
       "      <td>False</td>\n",
       "      <td>True</td>\n",
       "    </tr>\n",
       "    <tr>\n",
       "      <th>341</th>\n",
       "      <td>Biscoe</td>\n",
       "      <td>50.4</td>\n",
       "      <td>15.7</td>\n",
       "      <td>222.0</td>\n",
       "      <td>5750.0</td>\n",
       "      <td>MALE</td>\n",
       "      <td>False</td>\n",
       "      <td>True</td>\n",
       "    </tr>\n",
       "    <tr>\n",
       "      <th>342</th>\n",
       "      <td>Biscoe</td>\n",
       "      <td>45.2</td>\n",
       "      <td>14.8</td>\n",
       "      <td>212.0</td>\n",
       "      <td>5200.0</td>\n",
       "      <td>FEMALE</td>\n",
       "      <td>False</td>\n",
       "      <td>True</td>\n",
       "    </tr>\n",
       "    <tr>\n",
       "      <th>343</th>\n",
       "      <td>Biscoe</td>\n",
       "      <td>49.9</td>\n",
       "      <td>16.1</td>\n",
       "      <td>213.0</td>\n",
       "      <td>5400.0</td>\n",
       "      <td>MALE</td>\n",
       "      <td>False</td>\n",
       "      <td>True</td>\n",
       "    </tr>\n",
       "  </tbody>\n",
       "</table>\n",
       "<p>334 rows × 8 columns</p>\n",
       "</div>"
      ],
      "text/plain": [
       "        island  culmen_length_mm  culmen_depth_mm  flipper_length_mm  \\\n",
       "0    Torgersen              39.1             18.7              181.0   \n",
       "1    Torgersen              39.5             17.4              186.0   \n",
       "2    Torgersen              40.3             18.0              195.0   \n",
       "4    Torgersen              36.7             19.3              193.0   \n",
       "5    Torgersen              39.3             20.6              190.0   \n",
       "..         ...               ...              ...                ...   \n",
       "338     Biscoe              47.2             13.7              214.0   \n",
       "340     Biscoe              46.8             14.3              215.0   \n",
       "341     Biscoe              50.4             15.7              222.0   \n",
       "342     Biscoe              45.2             14.8              212.0   \n",
       "343     Biscoe              49.9             16.1              213.0   \n",
       "\n",
       "     body_mass_g     sex  species_Chinstrap  species_Gentoo  \n",
       "0         3750.0    MALE              False           False  \n",
       "1         3800.0  FEMALE              False           False  \n",
       "2         3250.0  FEMALE              False           False  \n",
       "4         3450.0  FEMALE              False           False  \n",
       "5         3650.0    MALE              False           False  \n",
       "..           ...     ...                ...             ...  \n",
       "338       4925.0  FEMALE              False            True  \n",
       "340       4850.0  FEMALE              False            True  \n",
       "341       5750.0    MALE              False            True  \n",
       "342       5200.0  FEMALE              False            True  \n",
       "343       5400.0    MALE              False            True  \n",
       "\n",
       "[334 rows x 8 columns]"
      ]
     },
     "execution_count": 46,
     "metadata": {},
     "output_type": "execute_result"
    }
   ],
   "source": [
    "data_encoded"
   ]
  },
  {
   "cell_type": "code",
   "execution_count": 44,
   "metadata": {},
   "outputs": [
    {
     "ename": "KeyError",
     "evalue": "\"['species_Encell'] not found in axis\"",
     "output_type": "error",
     "traceback": [
      "\u001b[1;31m---------------------------------------------------------------------------\u001b[0m",
      "\u001b[1;31mKeyError\u001b[0m                                  Traceback (most recent call last)",
      "\u001b[1;32mc:\\Users\\Łukasz\\III semestr infa\\Laboratorium maszynowej analizy danych\\Laborki 9 - 4.12\\Lewicki_Łukasz_Problem3_ADZD_L8.ipynb Cell 14\u001b[0m line \u001b[0;36m2\n\u001b[0;32m      <a href='vscode-notebook-cell:/c%3A/Users/%C5%81ukasz/III%20semestr%20infa/Laboratorium%20maszynowej%20analizy%20danych/Laborki%209%20-%204.12/Lewicki_%C5%81ukasz_Problem3_ADZD_L8.ipynb#X13sZmlsZQ%3D%3D?line=0'>1</a>\u001b[0m \u001b[39m# Podział zbioru danych na dane treningowe i testowe\u001b[39;00m\n\u001b[1;32m----> <a href='vscode-notebook-cell:/c%3A/Users/%C5%81ukasz/III%20semestr%20infa/Laboratorium%20maszynowej%20analizy%20danych/Laborki%209%20-%204.12/Lewicki_%C5%81ukasz_Problem3_ADZD_L8.ipynb#X13sZmlsZQ%3D%3D?line=1'>2</a>\u001b[0m X \u001b[39m=\u001b[39m data_encoded\u001b[39m.\u001b[39mdrop(\u001b[39m'\u001b[39m\u001b[39mspecies_Encell\u001b[39m\u001b[39m'\u001b[39m, axis\u001b[39m=\u001b[39m\u001b[39m1\u001b[39m)\n\u001b[0;32m      <a href='vscode-notebook-cell:/c%3A/Users/%C5%81ukasz/III%20semestr%20infa/Laboratorium%20maszynowej%20analizy%20danych/Laborki%209%20-%204.12/Lewicki_%C5%81ukasz_Problem3_ADZD_L8.ipynb#X13sZmlsZQ%3D%3D?line=2'>3</a>\u001b[0m y \u001b[39m=\u001b[39m data_encoded[\u001b[39m'\u001b[39m\u001b[39mspecies_Encell\u001b[39m\u001b[39m'\u001b[39m]\n\u001b[0;32m      <a href='vscode-notebook-cell:/c%3A/Users/%C5%81ukasz/III%20semestr%20infa/Laboratorium%20maszynowej%20analizy%20danych/Laborki%209%20-%204.12/Lewicki_%C5%81ukasz_Problem3_ADZD_L8.ipynb#X13sZmlsZQ%3D%3D?line=3'>4</a>\u001b[0m X_train, X_test, y_train, y_test \u001b[39m=\u001b[39m train_test_split(X, y, test_size\u001b[39m=\u001b[39m\u001b[39m0.3\u001b[39m, random_state\u001b[39m=\u001b[39m\u001b[39m101\u001b[39m)\n",
      "File \u001b[1;32mc:\\ProgramData\\anaconda3\\envs\\myenv\\Lib\\site-packages\\pandas\\core\\frame.py:5258\u001b[0m, in \u001b[0;36mDataFrame.drop\u001b[1;34m(self, labels, axis, index, columns, level, inplace, errors)\u001b[0m\n\u001b[0;32m   5110\u001b[0m \u001b[39mdef\u001b[39;00m \u001b[39mdrop\u001b[39m(\n\u001b[0;32m   5111\u001b[0m     \u001b[39mself\u001b[39m,\n\u001b[0;32m   5112\u001b[0m     labels: IndexLabel \u001b[39m=\u001b[39m \u001b[39mNone\u001b[39;00m,\n\u001b[1;32m   (...)\u001b[0m\n\u001b[0;32m   5119\u001b[0m     errors: IgnoreRaise \u001b[39m=\u001b[39m \u001b[39m\"\u001b[39m\u001b[39mraise\u001b[39m\u001b[39m\"\u001b[39m,\n\u001b[0;32m   5120\u001b[0m ) \u001b[39m-\u001b[39m\u001b[39m>\u001b[39m DataFrame \u001b[39m|\u001b[39m \u001b[39mNone\u001b[39;00m:\n\u001b[0;32m   5121\u001b[0m \u001b[39m    \u001b[39m\u001b[39m\"\"\"\u001b[39;00m\n\u001b[0;32m   5122\u001b[0m \u001b[39m    Drop specified labels from rows or columns.\u001b[39;00m\n\u001b[0;32m   5123\u001b[0m \n\u001b[1;32m   (...)\u001b[0m\n\u001b[0;32m   5256\u001b[0m \u001b[39m            weight  1.0     0.8\u001b[39;00m\n\u001b[0;32m   5257\u001b[0m \u001b[39m    \"\"\"\u001b[39;00m\n\u001b[1;32m-> 5258\u001b[0m     \u001b[39mreturn\u001b[39;00m \u001b[39msuper\u001b[39m()\u001b[39m.\u001b[39mdrop(\n\u001b[0;32m   5259\u001b[0m         labels\u001b[39m=\u001b[39mlabels,\n\u001b[0;32m   5260\u001b[0m         axis\u001b[39m=\u001b[39maxis,\n\u001b[0;32m   5261\u001b[0m         index\u001b[39m=\u001b[39mindex,\n\u001b[0;32m   5262\u001b[0m         columns\u001b[39m=\u001b[39mcolumns,\n\u001b[0;32m   5263\u001b[0m         level\u001b[39m=\u001b[39mlevel,\n\u001b[0;32m   5264\u001b[0m         inplace\u001b[39m=\u001b[39minplace,\n\u001b[0;32m   5265\u001b[0m         errors\u001b[39m=\u001b[39merrors,\n\u001b[0;32m   5266\u001b[0m     )\n",
      "File \u001b[1;32mc:\\ProgramData\\anaconda3\\envs\\myenv\\Lib\\site-packages\\pandas\\core\\generic.py:4549\u001b[0m, in \u001b[0;36mNDFrame.drop\u001b[1;34m(self, labels, axis, index, columns, level, inplace, errors)\u001b[0m\n\u001b[0;32m   4547\u001b[0m \u001b[39mfor\u001b[39;00m axis, labels \u001b[39min\u001b[39;00m axes\u001b[39m.\u001b[39mitems():\n\u001b[0;32m   4548\u001b[0m     \u001b[39mif\u001b[39;00m labels \u001b[39mis\u001b[39;00m \u001b[39mnot\u001b[39;00m \u001b[39mNone\u001b[39;00m:\n\u001b[1;32m-> 4549\u001b[0m         obj \u001b[39m=\u001b[39m obj\u001b[39m.\u001b[39m_drop_axis(labels, axis, level\u001b[39m=\u001b[39mlevel, errors\u001b[39m=\u001b[39merrors)\n\u001b[0;32m   4551\u001b[0m \u001b[39mif\u001b[39;00m inplace:\n\u001b[0;32m   4552\u001b[0m     \u001b[39mself\u001b[39m\u001b[39m.\u001b[39m_update_inplace(obj)\n",
      "File \u001b[1;32mc:\\ProgramData\\anaconda3\\envs\\myenv\\Lib\\site-packages\\pandas\\core\\generic.py:4591\u001b[0m, in \u001b[0;36mNDFrame._drop_axis\u001b[1;34m(self, labels, axis, level, errors, only_slice)\u001b[0m\n\u001b[0;32m   4589\u001b[0m         new_axis \u001b[39m=\u001b[39m axis\u001b[39m.\u001b[39mdrop(labels, level\u001b[39m=\u001b[39mlevel, errors\u001b[39m=\u001b[39merrors)\n\u001b[0;32m   4590\u001b[0m     \u001b[39melse\u001b[39;00m:\n\u001b[1;32m-> 4591\u001b[0m         new_axis \u001b[39m=\u001b[39m axis\u001b[39m.\u001b[39mdrop(labels, errors\u001b[39m=\u001b[39merrors)\n\u001b[0;32m   4592\u001b[0m     indexer \u001b[39m=\u001b[39m axis\u001b[39m.\u001b[39mget_indexer(new_axis)\n\u001b[0;32m   4594\u001b[0m \u001b[39m# Case for non-unique axis\u001b[39;00m\n\u001b[0;32m   4595\u001b[0m \u001b[39melse\u001b[39;00m:\n",
      "File \u001b[1;32mc:\\ProgramData\\anaconda3\\envs\\myenv\\Lib\\site-packages\\pandas\\core\\indexes\\base.py:6699\u001b[0m, in \u001b[0;36mIndex.drop\u001b[1;34m(self, labels, errors)\u001b[0m\n\u001b[0;32m   6697\u001b[0m \u001b[39mif\u001b[39;00m mask\u001b[39m.\u001b[39many():\n\u001b[0;32m   6698\u001b[0m     \u001b[39mif\u001b[39;00m errors \u001b[39m!=\u001b[39m \u001b[39m\"\u001b[39m\u001b[39mignore\u001b[39m\u001b[39m\"\u001b[39m:\n\u001b[1;32m-> 6699\u001b[0m         \u001b[39mraise\u001b[39;00m \u001b[39mKeyError\u001b[39;00m(\u001b[39mf\u001b[39m\u001b[39m\"\u001b[39m\u001b[39m{\u001b[39;00m\u001b[39mlist\u001b[39m(labels[mask])\u001b[39m}\u001b[39;00m\u001b[39m not found in axis\u001b[39m\u001b[39m\"\u001b[39m)\n\u001b[0;32m   6700\u001b[0m     indexer \u001b[39m=\u001b[39m indexer[\u001b[39m~\u001b[39mmask]\n\u001b[0;32m   6701\u001b[0m \u001b[39mreturn\u001b[39;00m \u001b[39mself\u001b[39m\u001b[39m.\u001b[39mdelete(indexer)\n",
      "\u001b[1;31mKeyError\u001b[0m: \"['species_Encell'] not found in axis\""
     ]
    }
   ],
   "source": [
    "# Podział zbioru danych na dane treningowe i testowe\n",
    "X = data_encoded.drop('species_Encell', axis=1)\n",
    "y = data_encoded['species_Encell']\n",
    "X_train, X_test, y_train, y_test = train_test_split(X, y, test_size=0.3, random_state=101)"
   ]
  },
  {
   "cell_type": "code",
   "execution_count": 27,
   "metadata": {},
   "outputs": [
    {
     "data": {
      "text/plain": [
       "Index(['culmen_length_mm', 'culmen_depth_mm', 'flipper_length_mm',\n",
       "       'body_mass_g', 'species_Chinstrap', 'species_Gentoo', 'island_Dream',\n",
       "       'island_Torgersen', 'sex_FEMALE', 'sex_MALE'],\n",
       "      dtype='object')"
      ]
     },
     "execution_count": 27,
     "metadata": {},
     "output_type": "execute_result"
    }
   ],
   "source": [
    "encoded_data.columns"
   ]
  },
  {
   "cell_type": "code",
   "execution_count": 28,
   "metadata": {},
   "outputs": [
    {
     "ename": "KeyError",
     "evalue": "\"['species'] not found in axis\"",
     "output_type": "error",
     "traceback": [
      "\u001b[1;31m---------------------------------------------------------------------------\u001b[0m",
      "\u001b[1;31mKeyError\u001b[0m                                  Traceback (most recent call last)",
      "\u001b[1;32mc:\\Users\\Łukasz\\III semestr infa\\Laboratorium maszynowej analizy danych\\Laborki 9 - 4.12\\Lewicki_Łukasz_Problem3_ADZD_L8.ipynb Cell 13\u001b[0m line \u001b[0;36m2\n\u001b[0;32m      <a href='vscode-notebook-cell:/c%3A/Users/%C5%81ukasz/III%20semestr%20infa/Laboratorium%20maszynowej%20analizy%20danych/Laborki%209%20-%204.12/Lewicki_%C5%81ukasz_Problem3_ADZD_L8.ipynb#X14sZmlsZQ%3D%3D?line=0'>1</a>\u001b[0m \u001b[39m# 2. Podział zbioru danych na dane treningowe i testowe\u001b[39;00m\n\u001b[1;32m----> <a href='vscode-notebook-cell:/c%3A/Users/%C5%81ukasz/III%20semestr%20infa/Laboratorium%20maszynowej%20analizy%20danych/Laborki%209%20-%204.12/Lewicki_%C5%81ukasz_Problem3_ADZD_L8.ipynb#X14sZmlsZQ%3D%3D?line=1'>2</a>\u001b[0m X \u001b[39m=\u001b[39m encoded_data\u001b[39m.\u001b[39mdrop(\u001b[39m'\u001b[39m\u001b[39mspecies\u001b[39m\u001b[39m'\u001b[39m, axis\u001b[39m=\u001b[39m\u001b[39m1\u001b[39m)\n\u001b[0;32m      <a href='vscode-notebook-cell:/c%3A/Users/%C5%81ukasz/III%20semestr%20infa/Laboratorium%20maszynowej%20analizy%20danych/Laborki%209%20-%204.12/Lewicki_%C5%81ukasz_Problem3_ADZD_L8.ipynb#X14sZmlsZQ%3D%3D?line=2'>3</a>\u001b[0m y \u001b[39m=\u001b[39m encoded_data[\u001b[39m'\u001b[39m\u001b[39mspecies\u001b[39m\u001b[39m'\u001b[39m]\n",
      "File \u001b[1;32mc:\\ProgramData\\anaconda3\\envs\\myenv\\Lib\\site-packages\\pandas\\core\\frame.py:5258\u001b[0m, in \u001b[0;36mDataFrame.drop\u001b[1;34m(self, labels, axis, index, columns, level, inplace, errors)\u001b[0m\n\u001b[0;32m   5110\u001b[0m \u001b[39mdef\u001b[39;00m \u001b[39mdrop\u001b[39m(\n\u001b[0;32m   5111\u001b[0m     \u001b[39mself\u001b[39m,\n\u001b[0;32m   5112\u001b[0m     labels: IndexLabel \u001b[39m=\u001b[39m \u001b[39mNone\u001b[39;00m,\n\u001b[1;32m   (...)\u001b[0m\n\u001b[0;32m   5119\u001b[0m     errors: IgnoreRaise \u001b[39m=\u001b[39m \u001b[39m\"\u001b[39m\u001b[39mraise\u001b[39m\u001b[39m\"\u001b[39m,\n\u001b[0;32m   5120\u001b[0m ) \u001b[39m-\u001b[39m\u001b[39m>\u001b[39m DataFrame \u001b[39m|\u001b[39m \u001b[39mNone\u001b[39;00m:\n\u001b[0;32m   5121\u001b[0m \u001b[39m    \u001b[39m\u001b[39m\"\"\"\u001b[39;00m\n\u001b[0;32m   5122\u001b[0m \u001b[39m    Drop specified labels from rows or columns.\u001b[39;00m\n\u001b[0;32m   5123\u001b[0m \n\u001b[1;32m   (...)\u001b[0m\n\u001b[0;32m   5256\u001b[0m \u001b[39m            weight  1.0     0.8\u001b[39;00m\n\u001b[0;32m   5257\u001b[0m \u001b[39m    \"\"\"\u001b[39;00m\n\u001b[1;32m-> 5258\u001b[0m     \u001b[39mreturn\u001b[39;00m \u001b[39msuper\u001b[39m()\u001b[39m.\u001b[39mdrop(\n\u001b[0;32m   5259\u001b[0m         labels\u001b[39m=\u001b[39mlabels,\n\u001b[0;32m   5260\u001b[0m         axis\u001b[39m=\u001b[39maxis,\n\u001b[0;32m   5261\u001b[0m         index\u001b[39m=\u001b[39mindex,\n\u001b[0;32m   5262\u001b[0m         columns\u001b[39m=\u001b[39mcolumns,\n\u001b[0;32m   5263\u001b[0m         level\u001b[39m=\u001b[39mlevel,\n\u001b[0;32m   5264\u001b[0m         inplace\u001b[39m=\u001b[39minplace,\n\u001b[0;32m   5265\u001b[0m         errors\u001b[39m=\u001b[39merrors,\n\u001b[0;32m   5266\u001b[0m     )\n",
      "File \u001b[1;32mc:\\ProgramData\\anaconda3\\envs\\myenv\\Lib\\site-packages\\pandas\\core\\generic.py:4549\u001b[0m, in \u001b[0;36mNDFrame.drop\u001b[1;34m(self, labels, axis, index, columns, level, inplace, errors)\u001b[0m\n\u001b[0;32m   4547\u001b[0m \u001b[39mfor\u001b[39;00m axis, labels \u001b[39min\u001b[39;00m axes\u001b[39m.\u001b[39mitems():\n\u001b[0;32m   4548\u001b[0m     \u001b[39mif\u001b[39;00m labels \u001b[39mis\u001b[39;00m \u001b[39mnot\u001b[39;00m \u001b[39mNone\u001b[39;00m:\n\u001b[1;32m-> 4549\u001b[0m         obj \u001b[39m=\u001b[39m obj\u001b[39m.\u001b[39m_drop_axis(labels, axis, level\u001b[39m=\u001b[39mlevel, errors\u001b[39m=\u001b[39merrors)\n\u001b[0;32m   4551\u001b[0m \u001b[39mif\u001b[39;00m inplace:\n\u001b[0;32m   4552\u001b[0m     \u001b[39mself\u001b[39m\u001b[39m.\u001b[39m_update_inplace(obj)\n",
      "File \u001b[1;32mc:\\ProgramData\\anaconda3\\envs\\myenv\\Lib\\site-packages\\pandas\\core\\generic.py:4591\u001b[0m, in \u001b[0;36mNDFrame._drop_axis\u001b[1;34m(self, labels, axis, level, errors, only_slice)\u001b[0m\n\u001b[0;32m   4589\u001b[0m         new_axis \u001b[39m=\u001b[39m axis\u001b[39m.\u001b[39mdrop(labels, level\u001b[39m=\u001b[39mlevel, errors\u001b[39m=\u001b[39merrors)\n\u001b[0;32m   4590\u001b[0m     \u001b[39melse\u001b[39;00m:\n\u001b[1;32m-> 4591\u001b[0m         new_axis \u001b[39m=\u001b[39m axis\u001b[39m.\u001b[39mdrop(labels, errors\u001b[39m=\u001b[39merrors)\n\u001b[0;32m   4592\u001b[0m     indexer \u001b[39m=\u001b[39m axis\u001b[39m.\u001b[39mget_indexer(new_axis)\n\u001b[0;32m   4594\u001b[0m \u001b[39m# Case for non-unique axis\u001b[39;00m\n\u001b[0;32m   4595\u001b[0m \u001b[39melse\u001b[39;00m:\n",
      "File \u001b[1;32mc:\\ProgramData\\anaconda3\\envs\\myenv\\Lib\\site-packages\\pandas\\core\\indexes\\base.py:6699\u001b[0m, in \u001b[0;36mIndex.drop\u001b[1;34m(self, labels, errors)\u001b[0m\n\u001b[0;32m   6697\u001b[0m \u001b[39mif\u001b[39;00m mask\u001b[39m.\u001b[39many():\n\u001b[0;32m   6698\u001b[0m     \u001b[39mif\u001b[39;00m errors \u001b[39m!=\u001b[39m \u001b[39m\"\u001b[39m\u001b[39mignore\u001b[39m\u001b[39m\"\u001b[39m:\n\u001b[1;32m-> 6699\u001b[0m         \u001b[39mraise\u001b[39;00m \u001b[39mKeyError\u001b[39;00m(\u001b[39mf\u001b[39m\u001b[39m\"\u001b[39m\u001b[39m{\u001b[39;00m\u001b[39mlist\u001b[39m(labels[mask])\u001b[39m}\u001b[39;00m\u001b[39m not found in axis\u001b[39m\u001b[39m\"\u001b[39m)\n\u001b[0;32m   6700\u001b[0m     indexer \u001b[39m=\u001b[39m indexer[\u001b[39m~\u001b[39mmask]\n\u001b[0;32m   6701\u001b[0m \u001b[39mreturn\u001b[39;00m \u001b[39mself\u001b[39m\u001b[39m.\u001b[39mdelete(indexer)\n",
      "\u001b[1;31mKeyError\u001b[0m: \"['species'] not found in axis\""
     ]
    }
   ],
   "source": [
    "# 2. Podział zbioru danych na dane treningowe i testowe\n",
    "X = encoded_data.drop('species', axis=1)\n",
    "y = encoded_data['species']"
   ]
  },
  {
   "cell_type": "code",
   "execution_count": null,
   "metadata": {},
   "outputs": [],
   "source": []
  }
 ],
 "metadata": {
  "kernelspec": {
   "display_name": "myenv",
   "language": "python",
   "name": "python3"
  },
  "language_info": {
   "codemirror_mode": {
    "name": "ipython",
    "version": 3
   },
   "file_extension": ".py",
   "mimetype": "text/x-python",
   "name": "python",
   "nbconvert_exporter": "python",
   "pygments_lexer": "ipython3",
   "version": "3.11.5"
  }
 },
 "nbformat": 4,
 "nbformat_minor": 2
}
